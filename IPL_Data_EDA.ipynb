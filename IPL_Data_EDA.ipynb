{
 "cells": [
  {
   "cell_type": "markdown",
   "id": "c2afc193-8a25-4187-a46e-feda5f860e31",
   "metadata": {},
   "source": [
    "# Exploratory Data Analysis of IPL Dataset"
   ]
  },
  {
   "cell_type": "markdown",
   "id": "93292c16-bbec-48ea-8986-eb1de6d29a84",
   "metadata": {},
   "source": [
    "## Importing required libraries"
   ]
  },
  {
   "cell_type": "code",
   "execution_count": null,
   "id": "1706a5da-b342-4582-9fb4-6b68a90f46af",
   "metadata": {},
   "outputs": [],
   "source": [
    "import pandas as pd\n",
    "import numpy as np"
   ]
  },
  {
   "cell_type": "markdown",
   "id": "0e4e938f-5f85-43fa-b125-636de6942260",
   "metadata": {},
   "source": [
    "### Read deliveries.csv as a DataFrame called df_ball"
   ]
  },
  {
   "cell_type": "code",
   "execution_count": 4,
   "id": "2ee39194-966b-4b84-8b99-66f83df2a0c1",
   "metadata": {},
   "outputs": [],
   "source": [
    "df_ball=pd.read_csv('deliveries.csv')"
   ]
  },
  {
   "cell_type": "markdown",
   "id": "7fbecc7e-cec1-40d9-a149-bf1bce8f84cf",
   "metadata": {},
   "source": [
    "### Check first two record of the dataset"
   ]
  },
  {
   "cell_type": "code",
   "execution_count": 5,
   "id": "96de404a-ddf2-4f40-a3a3-b48f7d89d908",
   "metadata": {},
   "outputs": [
    {
     "data": {
      "text/html": [
       "<div>\n",
       "<style scoped>\n",
       "    .dataframe tbody tr th:only-of-type {\n",
       "        vertical-align: middle;\n",
       "    }\n",
       "\n",
       "    .dataframe tbody tr th {\n",
       "        vertical-align: top;\n",
       "    }\n",
       "\n",
       "    .dataframe thead th {\n",
       "        text-align: right;\n",
       "    }\n",
       "</style>\n",
       "<table border=\"1\" class=\"dataframe\">\n",
       "  <thead>\n",
       "    <tr style=\"text-align: right;\">\n",
       "      <th></th>\n",
       "      <th>match_id</th>\n",
       "      <th>inning</th>\n",
       "      <th>batting_team</th>\n",
       "      <th>bowling_team</th>\n",
       "      <th>over</th>\n",
       "      <th>ball</th>\n",
       "      <th>batsman</th>\n",
       "      <th>non_striker</th>\n",
       "      <th>bowler</th>\n",
       "      <th>is_super_over</th>\n",
       "      <th>...</th>\n",
       "      <th>bye_runs</th>\n",
       "      <th>legbye_runs</th>\n",
       "      <th>noball_runs</th>\n",
       "      <th>penalty_runs</th>\n",
       "      <th>batsman_runs</th>\n",
       "      <th>extra_runs</th>\n",
       "      <th>total_runs</th>\n",
       "      <th>player_dismissed</th>\n",
       "      <th>dismissal_kind</th>\n",
       "      <th>fielder</th>\n",
       "    </tr>\n",
       "  </thead>\n",
       "  <tbody>\n",
       "    <tr>\n",
       "      <th>0</th>\n",
       "      <td>1</td>\n",
       "      <td>1</td>\n",
       "      <td>Sunrisers Hyderabad</td>\n",
       "      <td>Royal Challengers Bangalore</td>\n",
       "      <td>1</td>\n",
       "      <td>1</td>\n",
       "      <td>DA Warner</td>\n",
       "      <td>S Dhawan</td>\n",
       "      <td>TS Mills</td>\n",
       "      <td>0</td>\n",
       "      <td>...</td>\n",
       "      <td>0</td>\n",
       "      <td>0</td>\n",
       "      <td>0</td>\n",
       "      <td>0</td>\n",
       "      <td>0</td>\n",
       "      <td>0</td>\n",
       "      <td>0</td>\n",
       "      <td>NaN</td>\n",
       "      <td>NaN</td>\n",
       "      <td>NaN</td>\n",
       "    </tr>\n",
       "    <tr>\n",
       "      <th>1</th>\n",
       "      <td>1</td>\n",
       "      <td>1</td>\n",
       "      <td>Sunrisers Hyderabad</td>\n",
       "      <td>Royal Challengers Bangalore</td>\n",
       "      <td>1</td>\n",
       "      <td>2</td>\n",
       "      <td>DA Warner</td>\n",
       "      <td>S Dhawan</td>\n",
       "      <td>TS Mills</td>\n",
       "      <td>0</td>\n",
       "      <td>...</td>\n",
       "      <td>0</td>\n",
       "      <td>0</td>\n",
       "      <td>0</td>\n",
       "      <td>0</td>\n",
       "      <td>0</td>\n",
       "      <td>0</td>\n",
       "      <td>0</td>\n",
       "      <td>NaN</td>\n",
       "      <td>NaN</td>\n",
       "      <td>NaN</td>\n",
       "    </tr>\n",
       "  </tbody>\n",
       "</table>\n",
       "<p>2 rows × 21 columns</p>\n",
       "</div>"
      ],
      "text/plain": [
       "   match_id  inning         batting_team                 bowling_team  over  \\\n",
       "0         1       1  Sunrisers Hyderabad  Royal Challengers Bangalore     1   \n",
       "1         1       1  Sunrisers Hyderabad  Royal Challengers Bangalore     1   \n",
       "\n",
       "   ball    batsman non_striker    bowler  is_super_over  ...  bye_runs  \\\n",
       "0     1  DA Warner    S Dhawan  TS Mills              0  ...         0   \n",
       "1     2  DA Warner    S Dhawan  TS Mills              0  ...         0   \n",
       "\n",
       "   legbye_runs  noball_runs  penalty_runs  batsman_runs  extra_runs  \\\n",
       "0            0            0             0             0           0   \n",
       "1            0            0             0             0           0   \n",
       "\n",
       "   total_runs  player_dismissed dismissal_kind fielder  \n",
       "0           0               NaN            NaN     NaN  \n",
       "1           0               NaN            NaN     NaN  \n",
       "\n",
       "[2 rows x 21 columns]"
      ]
     },
     "execution_count": 5,
     "metadata": {},
     "output_type": "execute_result"
    }
   ],
   "source": [
    "df_ball.head(2)"
   ]
  },
  {
   "cell_type": "markdown",
   "id": "4d596ac5-95c5-4ad2-8aeb-b6ddc8477463",
   "metadata": {},
   "source": [
    "### Check last two records of the dataset"
   ]
  },
  {
   "cell_type": "code",
   "execution_count": 6,
   "id": "ae1b2118-4fe4-4c4d-8946-7c69f4fa2452",
   "metadata": {},
   "outputs": [
    {
     "data": {
      "text/html": [
       "<div>\n",
       "<style scoped>\n",
       "    .dataframe tbody tr th:only-of-type {\n",
       "        vertical-align: middle;\n",
       "    }\n",
       "\n",
       "    .dataframe tbody tr th {\n",
       "        vertical-align: top;\n",
       "    }\n",
       "\n",
       "    .dataframe thead th {\n",
       "        text-align: right;\n",
       "    }\n",
       "</style>\n",
       "<table border=\"1\" class=\"dataframe\">\n",
       "  <thead>\n",
       "    <tr style=\"text-align: right;\">\n",
       "      <th></th>\n",
       "      <th>match_id</th>\n",
       "      <th>inning</th>\n",
       "      <th>batting_team</th>\n",
       "      <th>bowling_team</th>\n",
       "      <th>over</th>\n",
       "      <th>ball</th>\n",
       "      <th>batsman</th>\n",
       "      <th>non_striker</th>\n",
       "      <th>bowler</th>\n",
       "      <th>is_super_over</th>\n",
       "      <th>...</th>\n",
       "      <th>bye_runs</th>\n",
       "      <th>legbye_runs</th>\n",
       "      <th>noball_runs</th>\n",
       "      <th>penalty_runs</th>\n",
       "      <th>batsman_runs</th>\n",
       "      <th>extra_runs</th>\n",
       "      <th>total_runs</th>\n",
       "      <th>player_dismissed</th>\n",
       "      <th>dismissal_kind</th>\n",
       "      <th>fielder</th>\n",
       "    </tr>\n",
       "  </thead>\n",
       "  <tbody>\n",
       "    <tr>\n",
       "      <th>179076</th>\n",
       "      <td>11415</td>\n",
       "      <td>2</td>\n",
       "      <td>Chennai Super Kings</td>\n",
       "      <td>Mumbai Indians</td>\n",
       "      <td>20</td>\n",
       "      <td>5</td>\n",
       "      <td>SN Thakur</td>\n",
       "      <td>RA Jadeja</td>\n",
       "      <td>SL Malinga</td>\n",
       "      <td>0</td>\n",
       "      <td>...</td>\n",
       "      <td>0</td>\n",
       "      <td>0</td>\n",
       "      <td>0</td>\n",
       "      <td>0</td>\n",
       "      <td>2</td>\n",
       "      <td>0</td>\n",
       "      <td>2</td>\n",
       "      <td>NaN</td>\n",
       "      <td>NaN</td>\n",
       "      <td>NaN</td>\n",
       "    </tr>\n",
       "    <tr>\n",
       "      <th>179077</th>\n",
       "      <td>11415</td>\n",
       "      <td>2</td>\n",
       "      <td>Chennai Super Kings</td>\n",
       "      <td>Mumbai Indians</td>\n",
       "      <td>20</td>\n",
       "      <td>6</td>\n",
       "      <td>SN Thakur</td>\n",
       "      <td>RA Jadeja</td>\n",
       "      <td>SL Malinga</td>\n",
       "      <td>0</td>\n",
       "      <td>...</td>\n",
       "      <td>0</td>\n",
       "      <td>0</td>\n",
       "      <td>0</td>\n",
       "      <td>0</td>\n",
       "      <td>0</td>\n",
       "      <td>0</td>\n",
       "      <td>0</td>\n",
       "      <td>SN Thakur</td>\n",
       "      <td>lbw</td>\n",
       "      <td>NaN</td>\n",
       "    </tr>\n",
       "  </tbody>\n",
       "</table>\n",
       "<p>2 rows × 21 columns</p>\n",
       "</div>"
      ],
      "text/plain": [
       "        match_id  inning         batting_team    bowling_team  over  ball  \\\n",
       "179076     11415       2  Chennai Super Kings  Mumbai Indians    20     5   \n",
       "179077     11415       2  Chennai Super Kings  Mumbai Indians    20     6   \n",
       "\n",
       "          batsman non_striker      bowler  is_super_over  ...  bye_runs  \\\n",
       "179076  SN Thakur   RA Jadeja  SL Malinga              0  ...         0   \n",
       "179077  SN Thakur   RA Jadeja  SL Malinga              0  ...         0   \n",
       "\n",
       "        legbye_runs  noball_runs  penalty_runs  batsman_runs  extra_runs  \\\n",
       "179076            0            0             0             2           0   \n",
       "179077            0            0             0             0           0   \n",
       "\n",
       "        total_runs  player_dismissed dismissal_kind fielder  \n",
       "179076           2               NaN            NaN     NaN  \n",
       "179077           0         SN Thakur            lbw     NaN  \n",
       "\n",
       "[2 rows x 21 columns]"
      ]
     },
     "execution_count": 6,
     "metadata": {},
     "output_type": "execute_result"
    }
   ],
   "source": [
    "df_ball.tail(2)"
   ]
  },
  {
   "cell_type": "markdown",
   "id": "3ab83569-8e93-48e1-890e-c673d3786c5e",
   "metadata": {},
   "source": [
    "### Check 3 random records"
   ]
  },
  {
   "cell_type": "code",
   "execution_count": 7,
   "id": "5ea9163b-49de-437e-802c-21735f482d03",
   "metadata": {},
   "outputs": [
    {
     "data": {
      "text/html": [
       "<div>\n",
       "<style scoped>\n",
       "    .dataframe tbody tr th:only-of-type {\n",
       "        vertical-align: middle;\n",
       "    }\n",
       "\n",
       "    .dataframe tbody tr th {\n",
       "        vertical-align: top;\n",
       "    }\n",
       "\n",
       "    .dataframe thead th {\n",
       "        text-align: right;\n",
       "    }\n",
       "</style>\n",
       "<table border=\"1\" class=\"dataframe\">\n",
       "  <thead>\n",
       "    <tr style=\"text-align: right;\">\n",
       "      <th></th>\n",
       "      <th>match_id</th>\n",
       "      <th>inning</th>\n",
       "      <th>batting_team</th>\n",
       "      <th>bowling_team</th>\n",
       "      <th>over</th>\n",
       "      <th>ball</th>\n",
       "      <th>batsman</th>\n",
       "      <th>non_striker</th>\n",
       "      <th>bowler</th>\n",
       "      <th>is_super_over</th>\n",
       "      <th>...</th>\n",
       "      <th>bye_runs</th>\n",
       "      <th>legbye_runs</th>\n",
       "      <th>noball_runs</th>\n",
       "      <th>penalty_runs</th>\n",
       "      <th>batsman_runs</th>\n",
       "      <th>extra_runs</th>\n",
       "      <th>total_runs</th>\n",
       "      <th>player_dismissed</th>\n",
       "      <th>dismissal_kind</th>\n",
       "      <th>fielder</th>\n",
       "    </tr>\n",
       "  </thead>\n",
       "  <tbody>\n",
       "    <tr>\n",
       "      <th>162231</th>\n",
       "      <td>7943</td>\n",
       "      <td>2</td>\n",
       "      <td>Kings XI Punjab</td>\n",
       "      <td>Mumbai Indians</td>\n",
       "      <td>11</td>\n",
       "      <td>5</td>\n",
       "      <td>AJ Finch</td>\n",
       "      <td>KL Rahul</td>\n",
       "      <td>KH Pandya</td>\n",
       "      <td>0</td>\n",
       "      <td>...</td>\n",
       "      <td>0</td>\n",
       "      <td>0</td>\n",
       "      <td>0</td>\n",
       "      <td>0</td>\n",
       "      <td>1</td>\n",
       "      <td>0</td>\n",
       "      <td>1</td>\n",
       "      <td>NaN</td>\n",
       "      <td>NaN</td>\n",
       "      <td>NaN</td>\n",
       "    </tr>\n",
       "    <tr>\n",
       "      <th>76175</th>\n",
       "      <td>323</td>\n",
       "      <td>2</td>\n",
       "      <td>Delhi Daredevils</td>\n",
       "      <td>Deccan Chargers</td>\n",
       "      <td>13</td>\n",
       "      <td>3</td>\n",
       "      <td>KP Pietersen</td>\n",
       "      <td>IK Pathan</td>\n",
       "      <td>JP Duminy</td>\n",
       "      <td>0</td>\n",
       "      <td>...</td>\n",
       "      <td>0</td>\n",
       "      <td>0</td>\n",
       "      <td>0</td>\n",
       "      <td>0</td>\n",
       "      <td>6</td>\n",
       "      <td>0</td>\n",
       "      <td>6</td>\n",
       "      <td>NaN</td>\n",
       "      <td>NaN</td>\n",
       "      <td>NaN</td>\n",
       "    </tr>\n",
       "    <tr>\n",
       "      <th>126152</th>\n",
       "      <td>532</td>\n",
       "      <td>1</td>\n",
       "      <td>Kings XI Punjab</td>\n",
       "      <td>Kolkata Knight Riders</td>\n",
       "      <td>1</td>\n",
       "      <td>6</td>\n",
       "      <td>WP Saha</td>\n",
       "      <td>V Sehwag</td>\n",
       "      <td>UT Yadav</td>\n",
       "      <td>0</td>\n",
       "      <td>...</td>\n",
       "      <td>0</td>\n",
       "      <td>0</td>\n",
       "      <td>0</td>\n",
       "      <td>0</td>\n",
       "      <td>2</td>\n",
       "      <td>0</td>\n",
       "      <td>2</td>\n",
       "      <td>NaN</td>\n",
       "      <td>NaN</td>\n",
       "      <td>NaN</td>\n",
       "    </tr>\n",
       "  </tbody>\n",
       "</table>\n",
       "<p>3 rows × 21 columns</p>\n",
       "</div>"
      ],
      "text/plain": [
       "        match_id  inning      batting_team           bowling_team  over  ball  \\\n",
       "162231      7943       2   Kings XI Punjab         Mumbai Indians    11     5   \n",
       "76175        323       2  Delhi Daredevils        Deccan Chargers    13     3   \n",
       "126152       532       1   Kings XI Punjab  Kolkata Knight Riders     1     6   \n",
       "\n",
       "             batsman non_striker     bowler  is_super_over  ...  bye_runs  \\\n",
       "162231      AJ Finch    KL Rahul  KH Pandya              0  ...         0   \n",
       "76175   KP Pietersen   IK Pathan  JP Duminy              0  ...         0   \n",
       "126152       WP Saha    V Sehwag   UT Yadav              0  ...         0   \n",
       "\n",
       "        legbye_runs  noball_runs  penalty_runs  batsman_runs  extra_runs  \\\n",
       "162231            0            0             0             1           0   \n",
       "76175             0            0             0             6           0   \n",
       "126152            0            0             0             2           0   \n",
       "\n",
       "        total_runs  player_dismissed dismissal_kind fielder  \n",
       "162231           1               NaN            NaN     NaN  \n",
       "76175            6               NaN            NaN     NaN  \n",
       "126152           2               NaN            NaN     NaN  \n",
       "\n",
       "[3 rows x 21 columns]"
      ]
     },
     "execution_count": 7,
     "metadata": {},
     "output_type": "execute_result"
    }
   ],
   "source": [
    "df_ball.sample(3)"
   ]
  },
  {
   "cell_type": "markdown",
   "id": "8146fd60-b9be-4598-8112-7f54ce29711c",
   "metadata": {},
   "source": [
    "### Check basic info of the DataFrame"
   ]
  },
  {
   "cell_type": "code",
   "execution_count": 26,
   "id": "69e3b5c7-e668-4535-a925-6f4ca0535fb0",
   "metadata": {},
   "outputs": [
    {
     "name": "stdout",
     "output_type": "stream",
     "text": [
      "<class 'pandas.core.frame.DataFrame'>\n",
      "RangeIndex: 179078 entries, 0 to 179077\n",
      "Data columns (total 21 columns):\n",
      " #   Column            Non-Null Count   Dtype \n",
      "---  ------            --------------   ----- \n",
      " 0   match_id          179078 non-null  int64 \n",
      " 1   inning            179078 non-null  int64 \n",
      " 2   batting_team      179078 non-null  object\n",
      " 3   bowling_team      179078 non-null  object\n",
      " 4   over              179078 non-null  int64 \n",
      " 5   ball              179078 non-null  int64 \n",
      " 6   batsman           179078 non-null  object\n",
      " 7   non_striker       179078 non-null  object\n",
      " 8   bowler            179078 non-null  object\n",
      " 9   is_super_over     179078 non-null  int64 \n",
      " 10  wide_runs         179078 non-null  int64 \n",
      " 11  bye_runs          179078 non-null  int64 \n",
      " 12  legbye_runs       179078 non-null  int64 \n",
      " 13  noball_runs       179078 non-null  int64 \n",
      " 14  penalty_runs      179078 non-null  int64 \n",
      " 15  batsman_runs      179078 non-null  int64 \n",
      " 16  extra_runs        179078 non-null  int64 \n",
      " 17  total_runs        179078 non-null  int64 \n",
      " 18  player_dismissed  8834 non-null    object\n",
      " 19  dismissal_kind    8834 non-null    object\n",
      " 20  fielder           6448 non-null    object\n",
      "dtypes: int64(13), object(8)\n",
      "memory usage: 28.7+ MB\n"
     ]
    }
   ],
   "source": [
    "df_ball.info()"
   ]
  },
  {
   "cell_type": "markdown",
   "id": "5800f939-9cb0-4e06-b701-e8bbd0be8cd5",
   "metadata": {},
   "source": [
    "### Check the data type of all the columns"
   ]
  },
  {
   "cell_type": "code",
   "execution_count": 8,
   "id": "377ed02c-cb8b-4f87-850d-e1b9d8553ee7",
   "metadata": {},
   "outputs": [
    {
     "data": {
      "text/plain": [
       "match_id             int64\n",
       "inning               int64\n",
       "batting_team        object\n",
       "bowling_team        object\n",
       "over                 int64\n",
       "ball                 int64\n",
       "batsman             object\n",
       "non_striker         object\n",
       "bowler              object\n",
       "is_super_over        int64\n",
       "wide_runs            int64\n",
       "bye_runs             int64\n",
       "legbye_runs          int64\n",
       "noball_runs          int64\n",
       "penalty_runs         int64\n",
       "batsman_runs         int64\n",
       "extra_runs           int64\n",
       "total_runs           int64\n",
       "player_dismissed    object\n",
       "dismissal_kind      object\n",
       "fielder             object\n",
       "dtype: object"
      ]
     },
     "execution_count": 8,
     "metadata": {},
     "output_type": "execute_result"
    }
   ],
   "source": [
    "df_ball.dtypes"
   ]
  },
  {
   "cell_type": "markdown",
   "id": "3f057bc4-d296-43a3-a587-83eee1ef6fef",
   "metadata": {},
   "source": [
    "### Check total number of missing values in each column"
   ]
  },
  {
   "cell_type": "code",
   "execution_count": 11,
   "id": "5b2dd74a-3adc-4bc6-9195-bd43c28cc822",
   "metadata": {},
   "outputs": [
    {
     "data": {
      "text/plain": [
       "match_id             0.000000\n",
       "inning               0.000000\n",
       "batting_team         0.000000\n",
       "bowling_team         0.000000\n",
       "over                 0.000000\n",
       "ball                 0.000000\n",
       "batsman              0.000000\n",
       "non_striker          0.000000\n",
       "bowler               0.000000\n",
       "is_super_over        0.000000\n",
       "wide_runs            0.000000\n",
       "bye_runs             0.000000\n",
       "legbye_runs          0.000000\n",
       "noball_runs          0.000000\n",
       "penalty_runs         0.000000\n",
       "batsman_runs         0.000000\n",
       "extra_runs           0.000000\n",
       "total_runs           0.000000\n",
       "player_dismissed    95.066954\n",
       "dismissal_kind      95.066954\n",
       "fielder             96.399334\n",
       "dtype: float64"
      ]
     },
     "execution_count": 11,
     "metadata": {},
     "output_type": "execute_result"
    }
   ],
   "source": [
    "df_ball.isnull().sum()/len(df_ball)*100"
   ]
  },
  {
   "cell_type": "markdown",
   "id": "6c6e571a-040e-4dbd-a289-a46021b1e65b",
   "metadata": {},
   "source": [
    "### Drop columns which has more than 50% missing values"
   ]
  },
  {
   "cell_type": "code",
   "execution_count": 28,
   "id": "ea7ea628-609d-4511-9655-ff894a82cebd",
   "metadata": {},
   "outputs": [],
   "source": [
    "df_ball.drop(['player_dismissed','dismissal_kind','fielder'],axis=1,inplace=True)"
   ]
  },
  {
   "cell_type": "code",
   "execution_count": 29,
   "id": "ff069aec-c02f-4780-91f4-f9bd8e143419",
   "metadata": {},
   "outputs": [
    {
     "data": {
      "text/html": [
       "<div>\n",
       "<style scoped>\n",
       "    .dataframe tbody tr th:only-of-type {\n",
       "        vertical-align: middle;\n",
       "    }\n",
       "\n",
       "    .dataframe tbody tr th {\n",
       "        vertical-align: top;\n",
       "    }\n",
       "\n",
       "    .dataframe thead th {\n",
       "        text-align: right;\n",
       "    }\n",
       "</style>\n",
       "<table border=\"1\" class=\"dataframe\">\n",
       "  <thead>\n",
       "    <tr style=\"text-align: right;\">\n",
       "      <th></th>\n",
       "      <th>match_id</th>\n",
       "      <th>inning</th>\n",
       "      <th>batting_team</th>\n",
       "      <th>bowling_team</th>\n",
       "      <th>over</th>\n",
       "      <th>ball</th>\n",
       "      <th>batsman</th>\n",
       "      <th>non_striker</th>\n",
       "      <th>bowler</th>\n",
       "      <th>is_super_over</th>\n",
       "      <th>wide_runs</th>\n",
       "      <th>bye_runs</th>\n",
       "      <th>legbye_runs</th>\n",
       "      <th>noball_runs</th>\n",
       "      <th>penalty_runs</th>\n",
       "      <th>batsman_runs</th>\n",
       "      <th>extra_runs</th>\n",
       "      <th>total_runs</th>\n",
       "    </tr>\n",
       "  </thead>\n",
       "  <tbody>\n",
       "    <tr>\n",
       "      <th>123760</th>\n",
       "      <td>522</td>\n",
       "      <td>1</td>\n",
       "      <td>Kolkata Knight Riders</td>\n",
       "      <td>Royal Challengers Bangalore</td>\n",
       "      <td>10</td>\n",
       "      <td>4</td>\n",
       "      <td>RV Uthappa</td>\n",
       "      <td>G Gambhir</td>\n",
       "      <td>YS Chahal</td>\n",
       "      <td>0</td>\n",
       "      <td>0</td>\n",
       "      <td>0</td>\n",
       "      <td>0</td>\n",
       "      <td>0</td>\n",
       "      <td>0</td>\n",
       "      <td>1</td>\n",
       "      <td>0</td>\n",
       "      <td>1</td>\n",
       "    </tr>\n",
       "    <tr>\n",
       "      <th>68101</th>\n",
       "      <td>288</td>\n",
       "      <td>1</td>\n",
       "      <td>Rajasthan Royals</td>\n",
       "      <td>Royal Challengers Bangalore</td>\n",
       "      <td>18</td>\n",
       "      <td>2</td>\n",
       "      <td>LRPL Taylor</td>\n",
       "      <td>AL Menaria</td>\n",
       "      <td>CK Langeveldt</td>\n",
       "      <td>0</td>\n",
       "      <td>0</td>\n",
       "      <td>0</td>\n",
       "      <td>0</td>\n",
       "      <td>0</td>\n",
       "      <td>0</td>\n",
       "      <td>0</td>\n",
       "      <td>0</td>\n",
       "      <td>0</td>\n",
       "    </tr>\n",
       "    <tr>\n",
       "      <th>164480</th>\n",
       "      <td>7952</td>\n",
       "      <td>2</td>\n",
       "      <td>Kolkata Knight Riders</td>\n",
       "      <td>Sunrisers Hyderabad</td>\n",
       "      <td>16</td>\n",
       "      <td>3</td>\n",
       "      <td>PP Chawla</td>\n",
       "      <td>S Gill</td>\n",
       "      <td>K Ahmed</td>\n",
       "      <td>0</td>\n",
       "      <td>0</td>\n",
       "      <td>0</td>\n",
       "      <td>0</td>\n",
       "      <td>0</td>\n",
       "      <td>0</td>\n",
       "      <td>1</td>\n",
       "      <td>0</td>\n",
       "      <td>1</td>\n",
       "    </tr>\n",
       "  </tbody>\n",
       "</table>\n",
       "</div>"
      ],
      "text/plain": [
       "        match_id  inning           batting_team                 bowling_team  \\\n",
       "123760       522       1  Kolkata Knight Riders  Royal Challengers Bangalore   \n",
       "68101        288       1       Rajasthan Royals  Royal Challengers Bangalore   \n",
       "164480      7952       2  Kolkata Knight Riders          Sunrisers Hyderabad   \n",
       "\n",
       "        over  ball      batsman non_striker         bowler  is_super_over  \\\n",
       "123760    10     4   RV Uthappa   G Gambhir      YS Chahal              0   \n",
       "68101     18     2  LRPL Taylor  AL Menaria  CK Langeveldt              0   \n",
       "164480    16     3    PP Chawla      S Gill        K Ahmed              0   \n",
       "\n",
       "        wide_runs  bye_runs  legbye_runs  noball_runs  penalty_runs  \\\n",
       "123760          0         0            0            0             0   \n",
       "68101           0         0            0            0             0   \n",
       "164480          0         0            0            0             0   \n",
       "\n",
       "        batsman_runs  extra_runs  total_runs  \n",
       "123760             1           0           1  \n",
       "68101              0           0           0  \n",
       "164480             1           0           1  "
      ]
     },
     "execution_count": 29,
     "metadata": {},
     "output_type": "execute_result"
    }
   ],
   "source": [
    "df_ball.sample(3)"
   ]
  },
  {
   "cell_type": "markdown",
   "id": "842e31ac-b569-4f30-b5c8-45318e986e50",
   "metadata": {},
   "source": [
    "### Check total no of duplicated values in the data and drop those duplicated values permanently and recheck"
   ]
  },
  {
   "cell_type": "code",
   "execution_count": 30,
   "id": "8e8427e1-5f62-4789-8d41-0a399450503b",
   "metadata": {},
   "outputs": [
    {
     "data": {
      "text/plain": [
       "24"
      ]
     },
     "execution_count": 30,
     "metadata": {},
     "output_type": "execute_result"
    }
   ],
   "source": [
    "df_ball.duplicated().sum()"
   ]
  },
  {
   "cell_type": "code",
   "execution_count": 31,
   "id": "4071f73f-a1bb-4ff4-871c-25b69b0f47a4",
   "metadata": {},
   "outputs": [],
   "source": [
    "df_ball.drop_duplicates(inplace=True)"
   ]
  },
  {
   "cell_type": "code",
   "execution_count": 32,
   "id": "12f27cdb-588b-4982-968f-86d7585ec7c3",
   "metadata": {},
   "outputs": [
    {
     "data": {
      "text/plain": [
       "0"
      ]
     },
     "execution_count": 32,
     "metadata": {},
     "output_type": "execute_result"
    }
   ],
   "source": [
    "df_ball.duplicated().sum()"
   ]
  },
  {
   "cell_type": "markdown",
   "id": "a17ede9f-3bb4-45e5-90b9-629ecb242dd2",
   "metadata": {},
   "source": [
    "### Check shape of the DataFrame"
   ]
  },
  {
   "cell_type": "code",
   "execution_count": 34,
   "id": "045420ab-f175-4713-aa89-fcc23f91c398",
   "metadata": {},
   "outputs": [
    {
     "data": {
      "text/plain": [
       "(179054, 18)"
      ]
     },
     "execution_count": 34,
     "metadata": {},
     "output_type": "execute_result"
    }
   ],
   "source": [
    "df_ball.shape"
   ]
  },
  {
   "cell_type": "markdown",
   "id": "ba78c000-dc81-4833-a71e-5627246e02d1",
   "metadata": {},
   "source": [
    "### Count of players who palyed IPL from 2008 to 2019"
   ]
  },
  {
   "cell_type": "code",
   "execution_count": 12,
   "id": "c11006aa-7689-4e6b-98d1-f899bf82abf8",
   "metadata": {},
   "outputs": [
    {
     "data": {
      "text/plain": [
       "592"
      ]
     },
     "execution_count": 12,
     "metadata": {},
     "output_type": "execute_result"
    }
   ],
   "source": [
    "d=df_ball.dropna()\n",
    "d\n",
    "pd.concat([d['batsman'],d['bowler'],d['non_striker'],d['fielder']]).nunique()"
   ]
  },
  {
   "cell_type": "markdown",
   "id": "ec95ebff-79ae-42f1-a157-c40b66217c11",
   "metadata": {},
   "source": [
    "### Name of all the players"
   ]
  },
  {
   "cell_type": "code",
   "execution_count": 13,
   "id": "eff5b053-50c5-42aa-bdf4-7a28a9aa14fd",
   "metadata": {
    "collapsed": true,
    "jupyter": {
     "outputs_hidden": true
    }
   },
   "outputs": [
    {
     "data": {
      "text/plain": [
       "array(['DA Warner', 'S Dhawan', 'MC Henriques', 'CH Gayle', 'KM Jadhav',\n",
       "       'TM Head', 'Sachin Baby', 'STR Binny', 'SR Watson', 'TS Mills',\n",
       "       'A Choudhary', 'KH Pandya', 'N Rana', 'KA Pollard', 'HH Pandya',\n",
       "       'MA Agarwal', 'AM Rahane', 'BA Stokes', 'JJ Roy', 'AJ Finch',\n",
       "       'KD Karthik', 'SPD Smith', 'DT Christian', 'M Vohra', 'HM Amla',\n",
       "       'Vishnu Vinod', 'SW Billings', 'SV Samson', 'DR Smith',\n",
       "       'DS Kulkarni', 'G Gambhir', 'RV Uthappa', 'YK Pathan', 'SA Yadav',\n",
       "       'CR Woakes', 'Mandeep Singh', 'AP Tare', 'RR Pant', 'RA Tripathi',\n",
       "       'F du Plessis', 'MS Dhoni', 'R Bhatia', 'DL Chahar', 'A Zampa',\n",
       "       'AB Dinda', 'DJ Hooda', 'V Shankar', 'NV Ojha', 'PA Patel',\n",
       "       'GJ Maxwell', 'DA Miller', 'WP Saha', 'AR Patel', 'MM Sharma',\n",
       "       'VR Aaron', 'SP Narine', 'V Kohli', 'AB de Villiers', 'P Negi',\n",
       "       'JC Buttler', 'MJ McClenaghan', 'Ankit Sharma', 'MK Tiwary',\n",
       "       'BB McCullum', 'MK Pandey', 'Yuvraj Singh', 'BCJ Cutting',\n",
       "       'KK Nair', 'SS Iyer', 'CH Morris', 'EJG Morgan', 'SK Raina',\n",
       "       'Ishan Kishan', 'SN Thakur', 'C de Grandhomme', 'Mohammad Nabi',\n",
       "       'RA Jadeja', 'KS Williamson', 'AD Mathews', 'SE Marsh',\n",
       "       'MP Stoinis', 'RG Sharma', 'NM Coulter-Nile', 'YS Chahal',\n",
       "       'Harbhajan Singh', 'S Badree', 'S Aravind', 'CJ Anderson',\n",
       "       'MJ Guptill', 'Anureet Singh', 'AF Milne', 'IK Pathan',\n",
       "       'JP Faulkner', 'JJ Bumrah', 'SL Malinga', 'K Rabada',\n",
       "       'Mohammed Shami', 'SP Jackson', 'KV Sharma', 'PJ Sangwan',\n",
       "       'Basil Thampi', 'Bipul Sharma', 'B Kumar', 'LMP Simmons',\n",
       "       'MN Samuels', 'PJ Cummins', 'Z Khan', 'CA Lynn', 'AT Rayudu',\n",
       "       'Kuldeep Yadav', 'R Tewatia', 'Swapnil Singh', 'I Sharma',\n",
       "       'S Nadeem', 'IR Jaggi', 'PP Chawla', 'SC Ganguly', 'RT Ponting',\n",
       "       'DJ Hussey', 'JH Kallis', 'W Jaffer', 'MV Boucher', 'B Akhil',\n",
       "       'CL White', 'AA Noffke', 'SB Joshi', 'K Goel', 'JR Hopes',\n",
       "       'KC Sangakkara', 'T Kohli', 'M Kaif', 'L Ronchi', 'ST Jayasuriya',\n",
       "       'PR Shah', 'AM Nayar', 'S Chanderpaul', 'LRPL Taylor',\n",
       "       'Y Venugopal Rao', 'VVS Laxman', 'AC Gilchrist', 'AS Yadav',\n",
       "       'A Symonds', 'WPUJC Vaas', 'SB Bangar', 'RP Singh',\n",
       "       'Mohammad Hafeez', 'DPMD Jayawardene', 'B Lee', 'S Sohal',\n",
       "       'Kamran Akmal', 'DJ Bravo', 'MA Khote', 'Shahid Afridi',\n",
       "       'GC Smith', 'SK Warne', 'RR Sarwan', 'S Sreesanth', 'SM Pollock',\n",
       "       'R Dravid', 'P Kumar', 'M Rawat', 'AB Agarkar', 'LR Shukla',\n",
       "       'Shoaib Malik', 'MF Maharoof', 'SM Katich', 'TM Srivastava',\n",
       "       'MEK Hussey', 'DW Steyn', 'DB Das', 'M Kartik', 'HH Gibbs',\n",
       "       'D Kalyankrishna', 'SA Asnodkar', 'Umar Gul', 'S Vidyut',\n",
       "       'JA Morkel', 'V Sehwag', 'LPC Silva', 'Misbah-ul-Haq',\n",
       "       'YV Takawale', 'SS Tiwary', 'Mohammad Asif', 'GD McGrath',\n",
       "       'Joginder Sharma', 'S Anirudha', 'SP Fleming', 'S Badrinath',\n",
       "       'CK Kapugedera', 'BJ Hodge', 'T Taibu', 'J Arunkumar', 'SB Styris',\n",
       "       'SP Goswami', 'R Vinay Kumar', 'VRV Singh', 'Salman Butt',\n",
       "       'A Chopra', 'DB Ravi Teja', 'Niraj Patel', 'A Mishra', 'PP Ojha',\n",
       "       'Shoaib Akhtar', 'SR Tendulkar', 'TM Dilshan', 'DT Patil',\n",
       "       'A Kumble', 'H Das', 'B Chipli', 'Sohail Tanvir', 'SD Chitnis',\n",
       "       'CRD Fernando', 'VS Yeligati', 'MS Gony', 'L Balaji',\n",
       "       'LA Pomersbach', 'VY Mahesh', 'WA Mota', 'ML Hayden', 'JDP Oram',\n",
       "       'JD Ryder', 'KP Pietersen', 'AD Mascarenhas', 'MM Patel',\n",
       "       'Kamran Khan', 'R Bishnoi', 'RS Bopara', 'A Flintoff',\n",
       "       'PC Valthaty', 'RJ Quiney', 'Yashpal Singh', 'JP Duminy',\n",
       "       'AS Raut', 'AN Ghosh', 'RE van der Merwe', 'TL Suman',\n",
       "       'Shoaib Ahmed', 'SK Trivedi', 'GR Napier', 'MN van Wyk',\n",
       "       'AA Bilakhia', 'M Vijay', 'SB Jakati', 'M Muralitharan',\n",
       "       'D du Preez', 'LA Carseldine', 'M Morkel', 'J Botha', 'C Nanda',\n",
       "       'M Manhas', 'DL Vettori', 'A Singh', 'GJ Bailey', 'Y Nagar',\n",
       "       'R Ashwin', 'T Thushara', 'Mohammad Ashraful', 'CA Pujara',\n",
       "       'P Dogra', 'MS Bisla', 'JM Kemp', 'AA Jhunjhunwala', 'OA Shah',\n",
       "       'RS Gavaskar', 'S Ladda', 'MJ Lumb', 'DR Martyn', 'S Narwal',\n",
       "       'Anirudh Singh', 'Jaskaran Singh', 'AB Barath', 'FY Fazal',\n",
       "       'R Sathish', 'J Theron', 'AC Voges', 'R Sharma', 'MD Mishra',\n",
       "       'PD Collingwood', 'SW Tait', 'RJ Harris', 'AP Dole', 'A Nehra',\n",
       "       'KP Appanna', 'C Madan', 'AG Paunikar', 'MR Marsh', 'Pankaj Singh',\n",
       "       'RV Gomez', 'UT Yadav', 'Sunny Singh', 'UBT Chand', 'AL Menaria',\n",
       "       'WD Parnell', 'JJ van der Wath', 'R Ninan', 'SB Wagh',\n",
       "       'JEC Franklin', 'R McLaren', 'S Randiv', 'BJ Haddin', 'DJ Jacobs',\n",
       "       'NLTC Perera', 'NL McCullum', 'A Mithun', 'RN ten Doeschate',\n",
       "       'TR Birt', 'TD Paine', 'M Klinger', 'Harpreet Singh',\n",
       "       'AC Blizzard', 'RR Powar', 'CA Ingram', 'AB McDonald',\n",
       "       'KB Arun Karthik', 'S Sriram', 'ND Doshi', 'AUK Pathan',\n",
       "       'CJ Ferguson', 'DE Bollinger', 'RE Levi', 'DJ Harris',\n",
       "       'Shakib Al Hasan', 'AA Chavan', 'GB Hogg', 'RR Bhatkal',\n",
       "       'Harmeet Singh', 'CJ McKay', 'Azhar Mahmood', 'KK Cooper',\n",
       "       'N Saini', 'AC Thomas', 'RJ Peterson', 'A Ashish Reddy',\n",
       "       'V Pratap Singh', 'MJ Clarke', 'PA Reddy', 'AP Majumdar',\n",
       "       'Gurkeerat Singh', 'AD Russell', 'A Chandila', 'Sunny Gupta',\n",
       "       'MC Juneja', 'GH Vihari', 'MDKJ Perera', 'P Awana', 'DH Yagnik',\n",
       "       'R Rampaul', 'SMSM Senanayake', 'BJ Rohrer', 'KL Rahul',\n",
       "       'J Syed Mohammad', 'Q de Kock', 'BB Samantray', 'R Dhawan',\n",
       "       'BMAJ Mendis', 'LJ Wright', 'AG Murtaza', 'DJG Sammy',\n",
       "       'KW Richardson', 'CM Gautam', 'MG Johnson', 'NJ Maddinson',\n",
       "       'JDS Neesham', 'MA Starc', 'BR Dunk', 'RR Rossouw', 'PV Tambe',\n",
       "       'HV Patel', 'VH Zol', 'R Shukla', 'S Rana', 'M de Lange',\n",
       "       'S Gopal', 'JO Holder', 'Imran Tahir', 'JD Unadkat', 'SA Abbott',\n",
       "       'D Wiese', 'SN Khan', 'DJ Muthuswami', 'Iqbal Abdulla',\n",
       "       'J Suchith', 'TG Southee', 'AD Nath', 'M Ashwin', 'NS Naik',\n",
       "       'CR Brathwaite', 'Parvez Rasool', 'PSP Handscomb', 'UT Khawaja',\n",
       "       'S Kaushik', 'F Behardien', 'KJ Abbott', 'C Munro', 'ER Dwivedi',\n",
       "       'M Wood', 'R Singh', 'D Short', 'K Gowtham', 'Rashid Khan',\n",
       "       'S Kaul', 'Sandeep Sharma', 'AJ Tye', 'M Ur Rahman', 'E Lewis',\n",
       "       'S Gill', 'S Mavi', 'T Curran', 'TA Boult', 'Washington Sundar',\n",
       "       'B Laughlin', 'R Bhui', 'H Klaasen', 'J Archer', 'L Plunkett',\n",
       "       'BB Sran', 'A Hales', 'M Lomror', 'P Shaw', 'Mohammed Siraj',\n",
       "       'D Shorey', 'M Ali', 'P Chopra', 'I Sodhi', 'AS Rajpoot',\n",
       "       'J Searles', 'S Hetmyer', 'S Dube', 'C Ingram', 'K Paul',\n",
       "       'N Pooran', 'M Markande', 'J Bairstow', 'H Vihari', 'P R Barman',\n",
       "       'H Viljoen', 'RD Chahar', 'P Krishna', 'S Curran', 'R Parag',\n",
       "       'A Turner', 'S Rutherford', 'M Santner', 'L Livingstone',\n",
       "       'T Natarajan', 'B Stanlake', 'KC Cariappa', 'NB Singh',\n",
       "       'Ankit Soni', 'LH Ferguson', 'MJ Henry', 'Avesh Khan', 'CJ Jordan',\n",
       "       'P Amarnath', 'B Geeves', 'D Salunkhe', 'DNT Zoysa',\n",
       "       'Gagandeep Singh', 'DJ Thornely', 'DP Vijaykumar', 'RR Raje',\n",
       "       'M Ntini', 'A Nel', 'BAW Mendis', 'PM Sarvesh Kumar',\n",
       "       'T Henderson', 'AM Salvi', 'VS Malik', 'DP Nannes', 'YA Abdulla',\n",
       "       'FH Edwards', 'SM Harwood', 'S Tyagi', 'Mashrafe Mortaza',\n",
       "       'CK Langeveldt', 'A Uniyal', 'SJ Srivastava', 'SE Bond',\n",
       "       'L Ablish', 'AN Ahmed', 'BA Bhatt', 'JE Taylor', 'P Parameswaran',\n",
       "       'AA Kazi', 'Anand Rajan', 'SS Mundhe', 'DAJ Bracewell',\n",
       "       'TP Sudhindra', 'KMDN Kulasekara', 'BW Hilfenhaus',\n",
       "       'Harmeet Singh (2)', 'P Suyal', 'IC Pandey', 'Shivam Sharma',\n",
       "       'K Santokie', 'BE Hendricks', 'Karanveer Singh', 'RG More',\n",
       "       'J Yadav', 'GS Sandhu', 'JW Hastings', 'P Sahu',\n",
       "       'Mustafizur Rahman', 'T Shamsi', 'SM Boland', 'KM Asif', 'L Ngidi',\n",
       "       'D Willey', 'S Lamichhane', 'S Sharma', 'V Chakravarthy',\n",
       "       'L Ferguson', 'J Behrendorff', 'S Kuggeleijn', 'A Joseph',\n",
       "       'H Gurney', 'K Ahmed', 'O Thomas', 'A Roy', 'S Warrier',\n",
       "       'K Khejroliya', 'DM Bravo', 'AR Bawne', 'SS Shaikh', 'B Sumanth',\n",
       "       'MS Wade', 'A Mukund', 'A Dananjaya', 'H Brar', 'P Raj', 'S Singh',\n",
       "       'CJ Jordan (sub)', 'V Shankar (sub)', 'R Dhawan (sub)',\n",
       "       'MA Agarwal (sub)', 'R Powell (sub)', 'CR Brathwaite (sub)',\n",
       "       'DA Miller (sub)', 'J Suchith (sub)', 'AM Rahane (sub)',\n",
       "       'R Vinay Kumar (sub)', 'T Kohli (sub)', 'B Chipli (sub)', 'U Kaul',\n",
       "       'Younis Khan', 'AB de Villiers (sub)', 'Shoaib Malik (sub)',\n",
       "       'RA Jadeja (sub)', 'DA Warner (sub)', 'LR Shukla (sub)',\n",
       "       'FY Fazal (sub)', 'Y Nagar (sub)', 'AS Raut (sub)',\n",
       "       'GJ Bailey (sub)', 'KP Appanna (sub)', 'JP Duminy (sub)',\n",
       "       'KAJ Roach', 'M Kaif (sub)', 'RS Sodhi', 'S Dhawan (sub)',\n",
       "       'A Mukund (sub)', 'Shakib Al Hasan (sub)', 'F du Plessis (sub)',\n",
       "       'KB Arun Karthik (sub)', 'Y Gnaneswara Rao', 'KH Devdhar',\n",
       "       'TM Dilshan (sub)', 'T Mishra', 'LA Pomersbach (sub)',\n",
       "       'DJ Harris (sub)', 'NLTC Perera (sub)', 'P Dogra (sub)',\n",
       "       'WP Saha (sub)', 'PJ Sangwan (sub)', 'DT Christian (sub)',\n",
       "       'BB McCullum (sub)', 'UA Birla', 'K Upadhyay', 'R Shukla (sub)',\n",
       "       'AR Patel (sub)', 'WD Parnell (sub)', 'AV Wankhade (sub)',\n",
       "       'MC Henriques (sub)', 'RR Rossouw (sub)', 'BR Dunk (sub)',\n",
       "       'J Yadav (sub)', 'HH Pandya (sub)', 'B Aparajith (sub)',\n",
       "       'UBT Chand (sub)', 'R Sathish (sub)', 'R Salam', 'S Midhun'],\n",
       "      dtype=object)"
      ]
     },
     "execution_count": 13,
     "metadata": {},
     "output_type": "execute_result"
    }
   ],
   "source": [
    "pd.concat([d['batsman'],d['bowler'],d['non_striker'],d['fielder']]).unique()"
   ]
  },
  {
   "cell_type": "markdown",
   "id": "c877eab1-aff9-4b18-95bd-605d589673a5",
   "metadata": {},
   "source": [
    "### How many teams played in IPL"
   ]
  },
  {
   "cell_type": "code",
   "execution_count": 15,
   "id": "49795ef4-bbb0-4220-8c02-77a4b37c2592",
   "metadata": {},
   "outputs": [
    {
     "data": {
      "text/plain": [
       "15"
      ]
     },
     "execution_count": 15,
     "metadata": {},
     "output_type": "execute_result"
    }
   ],
   "source": [
    "pd.concat([df_ball['batting_team'],df_ball['bowling_team']]).nunique()"
   ]
  },
  {
   "cell_type": "markdown",
   "id": "54693be5-a6cd-494d-be31-68257b63892f",
   "metadata": {},
   "source": [
    "### Name of all the teams"
   ]
  },
  {
   "cell_type": "code",
   "execution_count": 16,
   "id": "ce3febc2-8467-4303-80fa-9b120e575e63",
   "metadata": {},
   "outputs": [
    {
     "data": {
      "text/plain": [
       "array(['Sunrisers Hyderabad', 'Royal Challengers Bangalore',\n",
       "       'Mumbai Indians', 'Rising Pune Supergiant', 'Gujarat Lions',\n",
       "       'Kolkata Knight Riders', 'Kings XI Punjab', 'Delhi Daredevils',\n",
       "       'Chennai Super Kings', 'Rajasthan Royals', 'Deccan Chargers',\n",
       "       'Kochi Tuskers Kerala', 'Pune Warriors', 'Rising Pune Supergiants',\n",
       "       'Delhi Capitals'], dtype=object)"
      ]
     },
     "execution_count": 16,
     "metadata": {},
     "output_type": "execute_result"
    }
   ],
   "source": [
    "pd.concat([df_ball['batting_team'],df_ball['bowling_team']]).unique()"
   ]
  },
  {
   "cell_type": "markdown",
   "id": "e6d4c307-7ca5-49f8-a43c-1ddd696f4365",
   "metadata": {},
   "source": [
    "### Top 10 batsman who has highest runs in IPL through all seasons"
   ]
  },
  {
   "cell_type": "code",
   "execution_count": 17,
   "id": "0f9645c9-7ade-4330-9b87-640e6c98ea7b",
   "metadata": {},
   "outputs": [
    {
     "data": {
      "text/plain": [
       "batsman\n",
       "V Kohli           5434\n",
       "SK Raina          5415\n",
       "RG Sharma         4914\n",
       "DA Warner         4741\n",
       "S Dhawan          4632\n",
       "CH Gayle          4560\n",
       "MS Dhoni          4477\n",
       "RV Uthappa        4446\n",
       "AB de Villiers    4428\n",
       "G Gambhir         4223\n",
       "Name: batsman_runs, dtype: int64"
      ]
     },
     "execution_count": 17,
     "metadata": {},
     "output_type": "execute_result"
    }
   ],
   "source": [
    "d=df_ball.groupby('batsman')['batsman_runs'].sum()\n",
    "d1=d.sort_values(ascending=False)\n",
    "d1.head(10)"
   ]
  },
  {
   "cell_type": "markdown",
   "id": "bdff1741-d20b-4d23-98a1-fbe7b3a9e0fd",
   "metadata": {},
   "source": [
    "### Check all the different dismissal type"
   ]
  },
  {
   "cell_type": "code",
   "execution_count": 18,
   "id": "ee946dd9-7323-40bf-b2fb-5d0f3ddb92fc",
   "metadata": {},
   "outputs": [
    {
     "data": {
      "text/plain": [
       "array(['caught', 'bowled', 'run out', 'lbw', 'caught and bowled',\n",
       "       'stumped', 'retired hurt', 'hit wicket', 'obstructing the field'],\n",
       "      dtype=object)"
      ]
     },
     "execution_count": 18,
     "metadata": {},
     "output_type": "execute_result"
    }
   ],
   "source": [
    "df_ball['dismissal_kind'].unique()[1:]"
   ]
  },
  {
   "cell_type": "markdown",
   "id": "ea5525ec-629e-4867-a23e-ff441a633e47",
   "metadata": {},
   "source": [
    "### How many balls did Sachin Tendulkar face"
   ]
  },
  {
   "cell_type": "code",
   "execution_count": 19,
   "id": "3ef9b3c3-c069-4aef-b13e-19043762eb63",
   "metadata": {},
   "outputs": [
    {
     "data": {
      "text/plain": [
       "2044"
      ]
     },
     "execution_count": 19,
     "metadata": {},
     "output_type": "execute_result"
    }
   ],
   "source": [
    "df_ball[df_ball['batsman']=='SR Tendulkar']['ball'].count()"
   ]
  },
  {
   "cell_type": "markdown",
   "id": "d7e67c87-789b-483c-a215-a84317271a33",
   "metadata": {},
   "source": [
    "### Match and innings wise all bating team's total runs.(first 10 records)"
   ]
  },
  {
   "cell_type": "code",
   "execution_count": 20,
   "id": "cead74c2-aa38-488f-aa08-dd0c4172b4ce",
   "metadata": {},
   "outputs": [
    {
     "data": {
      "text/html": [
       "<div>\n",
       "<style scoped>\n",
       "    .dataframe tbody tr th:only-of-type {\n",
       "        vertical-align: middle;\n",
       "    }\n",
       "\n",
       "    .dataframe tbody tr th {\n",
       "        vertical-align: top;\n",
       "    }\n",
       "\n",
       "    .dataframe thead th {\n",
       "        text-align: right;\n",
       "    }\n",
       "</style>\n",
       "<table border=\"1\" class=\"dataframe\">\n",
       "  <thead>\n",
       "    <tr style=\"text-align: right;\">\n",
       "      <th></th>\n",
       "      <th>match_id</th>\n",
       "      <th>inning</th>\n",
       "      <th>batting_team</th>\n",
       "      <th>total_runs</th>\n",
       "    </tr>\n",
       "  </thead>\n",
       "  <tbody>\n",
       "    <tr>\n",
       "      <th>0</th>\n",
       "      <td>1</td>\n",
       "      <td>1</td>\n",
       "      <td>Sunrisers Hyderabad</td>\n",
       "      <td>207</td>\n",
       "    </tr>\n",
       "    <tr>\n",
       "      <th>1</th>\n",
       "      <td>1</td>\n",
       "      <td>2</td>\n",
       "      <td>Royal Challengers Bangalore</td>\n",
       "      <td>172</td>\n",
       "    </tr>\n",
       "    <tr>\n",
       "      <th>2</th>\n",
       "      <td>2</td>\n",
       "      <td>1</td>\n",
       "      <td>Mumbai Indians</td>\n",
       "      <td>184</td>\n",
       "    </tr>\n",
       "    <tr>\n",
       "      <th>3</th>\n",
       "      <td>2</td>\n",
       "      <td>2</td>\n",
       "      <td>Rising Pune Supergiant</td>\n",
       "      <td>187</td>\n",
       "    </tr>\n",
       "    <tr>\n",
       "      <th>4</th>\n",
       "      <td>3</td>\n",
       "      <td>1</td>\n",
       "      <td>Gujarat Lions</td>\n",
       "      <td>183</td>\n",
       "    </tr>\n",
       "    <tr>\n",
       "      <th>5</th>\n",
       "      <td>3</td>\n",
       "      <td>2</td>\n",
       "      <td>Kolkata Knight Riders</td>\n",
       "      <td>184</td>\n",
       "    </tr>\n",
       "    <tr>\n",
       "      <th>6</th>\n",
       "      <td>4</td>\n",
       "      <td>1</td>\n",
       "      <td>Rising Pune Supergiant</td>\n",
       "      <td>163</td>\n",
       "    </tr>\n",
       "    <tr>\n",
       "      <th>7</th>\n",
       "      <td>4</td>\n",
       "      <td>2</td>\n",
       "      <td>Kings XI Punjab</td>\n",
       "      <td>164</td>\n",
       "    </tr>\n",
       "    <tr>\n",
       "      <th>8</th>\n",
       "      <td>5</td>\n",
       "      <td>1</td>\n",
       "      <td>Royal Challengers Bangalore</td>\n",
       "      <td>157</td>\n",
       "    </tr>\n",
       "    <tr>\n",
       "      <th>9</th>\n",
       "      <td>5</td>\n",
       "      <td>2</td>\n",
       "      <td>Delhi Daredevils</td>\n",
       "      <td>142</td>\n",
       "    </tr>\n",
       "  </tbody>\n",
       "</table>\n",
       "</div>"
      ],
      "text/plain": [
       "   match_id  inning                 batting_team  total_runs\n",
       "0         1       1          Sunrisers Hyderabad         207\n",
       "1         1       2  Royal Challengers Bangalore         172\n",
       "2         2       1               Mumbai Indians         184\n",
       "3         2       2       Rising Pune Supergiant         187\n",
       "4         3       1                Gujarat Lions         183\n",
       "5         3       2        Kolkata Knight Riders         184\n",
       "6         4       1       Rising Pune Supergiant         163\n",
       "7         4       2              Kings XI Punjab         164\n",
       "8         5       1  Royal Challengers Bangalore         157\n",
       "9         5       2             Delhi Daredevils         142"
      ]
     },
     "execution_count": 20,
     "metadata": {},
     "output_type": "execute_result"
    }
   ],
   "source": [
    "df_ball.groupby(['match_id','inning','batting_team'])['total_runs'].sum().reset_index().head(10)"
   ]
  },
  {
   "cell_type": "markdown",
   "id": "2940d17b-1d41-497d-a6b5-f64594f33d9a",
   "metadata": {},
   "source": [
    "### Which team score more than 200 maximum times(How many times)?"
   ]
  },
  {
   "cell_type": "code",
   "execution_count": 21,
   "id": "a71438a7-c804-4b8a-a30e-8032187e021e",
   "metadata": {},
   "outputs": [
    {
     "data": {
      "text/plain": [
       "batting_team\n",
       "Royal Challengers Bangalore    17\n",
       "Chennai Super Kings            16\n",
       "Mumbai Indians                 14\n",
       "Kings XI Punjab                14\n",
       "Sunrisers Hyderabad            10\n",
       "Kolkata Knight Riders           9\n",
       "Rajasthan Royals                8\n",
       "Delhi Daredevils                7\n",
       "Gujarat Lions                   1\n",
       "Deccan Chargers                 1\n",
       "Delhi Capitals                  1\n",
       "Name: count, dtype: int64"
      ]
     },
     "execution_count": 21,
     "metadata": {},
     "output_type": "execute_result"
    }
   ],
   "source": [
    "d=df_ball.groupby(['match_id','inning','batting_team'])['total_runs'].sum().reset_index()\n",
    "#d['total_runs']>200\n",
    "a=d[d['total_runs']>200]\n",
    "a['batting_team'].value_counts()"
   ]
  },
  {
   "cell_type": "markdown",
   "id": "07a5bada-fa85-45e9-9607-e97faa952a8b",
   "metadata": {},
   "source": [
    "### Batsman who had played for KKR"
   ]
  },
  {
   "cell_type": "code",
   "execution_count": 22,
   "id": "d1ee9889-73c1-4b64-9de1-43819cf4e48f",
   "metadata": {},
   "outputs": [
    {
     "data": {
      "text/plain": [
       "array(['G Gambhir', 'CA Lynn', 'RV Uthappa', 'MK Pandey', 'YK Pathan',\n",
       "       'SA Yadav', 'CR Woakes', 'SP Narine', 'C de Grandhomme',\n",
       "       'Shakib Al Hasan', 'NM Coulter-Nile', 'Kuldeep Yadav', 'UT Yadav',\n",
       "       'DM Bravo', 'SP Jackson', 'TA Boult', 'IR Jaggi', 'PP Chawla',\n",
       "       'AS Rajpoot', 'SC Ganguly', 'BB McCullum', 'RT Ponting',\n",
       "       'DJ Hussey', 'Mohammad Hafeez', 'WP Saha', 'LR Shukla',\n",
       "       'AB Agarkar', 'M Kartik', 'I Sharma', 'DB Das', 'Salman Butt',\n",
       "       'BJ Hodge', 'Umar Gul', 'AB Dinda', 'A Chopra', 'T Taibu',\n",
       "       'Iqbal Abdulla', 'Shoaib Akhtar', 'CH Gayle', 'MC Henriques',\n",
       "       'SB Bangar', 'Yashpal Singh', 'AN Ghosh', 'BAW Mendis',\n",
       "       'MN van Wyk', 'AD Mathews', 'Mashrafe Mortaza', 'SS Shaikh',\n",
       "       'MK Tiwary', 'CA Pujara', 'OA Shah', 'RS Gavaskar', 'SE Bond',\n",
       "       'Mandeep Singh', 'CK Langeveldt', 'MS Bisla', 'JH Kallis',\n",
       "       'EJG Morgan', 'R Bhatia', 'B Lee', 'L Balaji', 'BJ Haddin',\n",
       "       'SP Goswami', 'RN ten Doeschate', 'MV Boucher', 'Mohammed Shami',\n",
       "       'R McLaren', 'PJ Sangwan', 'SMSM Senanayake', 'S Narwal',\n",
       "       'P Dogra', 'R Vinay Kumar', 'M Morkel', 'AD Russell', 'J Botha',\n",
       "       'PJ Cummins', 'GB Hogg', 'Azhar Mahmood', 'C Munro', 'R Sathish',\n",
       "       'JO Holder', 'N Rana', 'KD Karthik', 'R Singh', 'T Curran',\n",
       "       'S Gill', 'S Mavi', 'MG Johnson', 'P Krishna', 'J Searles',\n",
       "       'N Naik', 'H Gurney', 'J Denly', 'CR Brathwaite', 'P Raj',\n",
       "       'KC Cariappa'], dtype=object)"
      ]
     },
     "execution_count": 22,
     "metadata": {},
     "output_type": "execute_result"
    }
   ],
   "source": [
    "df_ball[df_ball['batting_team']=='Kolkata Knight Riders']['batsman'].unique()"
   ]
  },
  {
   "cell_type": "markdown",
   "id": "d3222d64-ca95-4b94-9114-8d5d978936da",
   "metadata": {},
   "source": [
    "### Player who has the highest centuries in ipl history"
   ]
  },
  {
   "cell_type": "code",
   "execution_count": 35,
   "id": "01678771-c111-4e23-ade5-c226570e1add",
   "metadata": {},
   "outputs": [
    {
     "data": {
      "text/plain": [
       "'CH Gayle'"
      ]
     },
     "execution_count": 35,
     "metadata": {},
     "output_type": "execute_result"
    }
   ],
   "source": [
    "d=df_ball.groupby(['batsman','match_id'])[['batsman_runs']].sum().reset_index()\n",
    "d\n",
    "d1=d[d['batsman_runs']>=100]\n",
    "d1\n",
    "d1['batsman'].value_counts().head(1).index[0]"
   ]
  },
  {
   "cell_type": "markdown",
   "id": "bd583749-3a0c-456c-be0d-360a1fe88033",
   "metadata": {},
   "source": [
    "### Number of balls faced by Virat Kohli "
   ]
  },
  {
   "cell_type": "code",
   "execution_count": 36,
   "id": "329c90f1-44dd-40ac-aa31-e9f16190fdc0",
   "metadata": {},
   "outputs": [
    {
     "data": {
      "text/plain": [
       "4211"
      ]
     },
     "execution_count": 36,
     "metadata": {},
     "output_type": "execute_result"
    }
   ],
   "source": [
    "df_ball[(df_ball['batsman']=='V Kohli')]['ball'].count()"
   ]
  },
  {
   "cell_type": "markdown",
   "id": "f9c19d7b-d8f1-4537-90ae-52aded15fbcd",
   "metadata": {},
   "source": [
    "### Match and innings wise score in first powerplay"
   ]
  },
  {
   "cell_type": "code",
   "execution_count": 37,
   "id": "37131043-058a-4c7d-93c1-4c78d8904cf0",
   "metadata": {},
   "outputs": [
    {
     "data": {
      "text/html": [
       "<div>\n",
       "<style scoped>\n",
       "    .dataframe tbody tr th:only-of-type {\n",
       "        vertical-align: middle;\n",
       "    }\n",
       "\n",
       "    .dataframe tbody tr th {\n",
       "        vertical-align: top;\n",
       "    }\n",
       "\n",
       "    .dataframe thead th {\n",
       "        text-align: right;\n",
       "    }\n",
       "</style>\n",
       "<table border=\"1\" class=\"dataframe\">\n",
       "  <thead>\n",
       "    <tr style=\"text-align: right;\">\n",
       "      <th></th>\n",
       "      <th>match_id</th>\n",
       "      <th>inning</th>\n",
       "      <th>batting_team</th>\n",
       "      <th>total_runs</th>\n",
       "    </tr>\n",
       "  </thead>\n",
       "  <tbody>\n",
       "    <tr>\n",
       "      <th>0</th>\n",
       "      <td>1</td>\n",
       "      <td>1</td>\n",
       "      <td>Sunrisers Hyderabad</td>\n",
       "      <td>207</td>\n",
       "    </tr>\n",
       "    <tr>\n",
       "      <th>1</th>\n",
       "      <td>1</td>\n",
       "      <td>2</td>\n",
       "      <td>Royal Challengers Bangalore</td>\n",
       "      <td>172</td>\n",
       "    </tr>\n",
       "    <tr>\n",
       "      <th>2</th>\n",
       "      <td>2</td>\n",
       "      <td>1</td>\n",
       "      <td>Mumbai Indians</td>\n",
       "      <td>184</td>\n",
       "    </tr>\n",
       "    <tr>\n",
       "      <th>3</th>\n",
       "      <td>2</td>\n",
       "      <td>2</td>\n",
       "      <td>Rising Pune Supergiant</td>\n",
       "      <td>187</td>\n",
       "    </tr>\n",
       "    <tr>\n",
       "      <th>4</th>\n",
       "      <td>3</td>\n",
       "      <td>1</td>\n",
       "      <td>Gujarat Lions</td>\n",
       "      <td>183</td>\n",
       "    </tr>\n",
       "    <tr>\n",
       "      <th>...</th>\n",
       "      <td>...</td>\n",
       "      <td>...</td>\n",
       "      <td>...</td>\n",
       "      <td>...</td>\n",
       "    </tr>\n",
       "    <tr>\n",
       "      <th>1523</th>\n",
       "      <td>11413</td>\n",
       "      <td>2</td>\n",
       "      <td>Delhi Capitals</td>\n",
       "      <td>170</td>\n",
       "    </tr>\n",
       "    <tr>\n",
       "      <th>1524</th>\n",
       "      <td>11414</td>\n",
       "      <td>1</td>\n",
       "      <td>Delhi Capitals</td>\n",
       "      <td>155</td>\n",
       "    </tr>\n",
       "    <tr>\n",
       "      <th>1525</th>\n",
       "      <td>11414</td>\n",
       "      <td>2</td>\n",
       "      <td>Chennai Super Kings</td>\n",
       "      <td>162</td>\n",
       "    </tr>\n",
       "    <tr>\n",
       "      <th>1526</th>\n",
       "      <td>11415</td>\n",
       "      <td>1</td>\n",
       "      <td>Mumbai Indians</td>\n",
       "      <td>152</td>\n",
       "    </tr>\n",
       "    <tr>\n",
       "      <th>1527</th>\n",
       "      <td>11415</td>\n",
       "      <td>2</td>\n",
       "      <td>Chennai Super Kings</td>\n",
       "      <td>157</td>\n",
       "    </tr>\n",
       "  </tbody>\n",
       "</table>\n",
       "<p>1528 rows × 4 columns</p>\n",
       "</div>"
      ],
      "text/plain": [
       "      match_id  inning                 batting_team  total_runs\n",
       "0            1       1          Sunrisers Hyderabad         207\n",
       "1            1       2  Royal Challengers Bangalore         172\n",
       "2            2       1               Mumbai Indians         184\n",
       "3            2       2       Rising Pune Supergiant         187\n",
       "4            3       1                Gujarat Lions         183\n",
       "...        ...     ...                          ...         ...\n",
       "1523     11413       2               Delhi Capitals         170\n",
       "1524     11414       1               Delhi Capitals         155\n",
       "1525     11414       2          Chennai Super Kings         162\n",
       "1526     11415       1               Mumbai Indians         152\n",
       "1527     11415       2          Chennai Super Kings         157\n",
       "\n",
       "[1528 rows x 4 columns]"
      ]
     },
     "execution_count": 37,
     "metadata": {},
     "output_type": "execute_result"
    }
   ],
   "source": [
    "df_ball.groupby(['match_id','inning','batting_team'])['total_runs'].sum().reset_index()"
   ]
  },
  {
   "cell_type": "markdown",
   "id": "0fdae3ac-0793-46f2-924d-ad2917eece5a",
   "metadata": {},
   "source": [
    "### Total runs of top 5 teams in IPL"
   ]
  },
  {
   "cell_type": "code",
   "execution_count": 38,
   "id": "d33ea486-9c55-4373-a33c-6b9d3d756e6d",
   "metadata": {},
   "outputs": [
    {
     "data": {
      "text/plain": [
       "batting_team\n",
       "Mumbai Indians                 29806\n",
       "Royal Challengers Bangalore    28125\n",
       "Kings XI Punjab                27891\n",
       "Kolkata Knight Riders          27415\n",
       "Chennai Super Kings            26418\n",
       "Name: total_runs, dtype: int64"
      ]
     },
     "execution_count": 38,
     "metadata": {},
     "output_type": "execute_result"
    }
   ],
   "source": [
    "df_ball.groupby('batting_team')['total_runs'].sum().sort_values(ascending=False).head()"
   ]
  },
  {
   "cell_type": "markdown",
   "id": "fc566a37-a442-4079-95c0-89f2dec0838b",
   "metadata": {},
   "source": [
    "### Read matches.csv as dataframe called df_matches"
   ]
  },
  {
   "cell_type": "code",
   "execution_count": 23,
   "id": "36e193c7-2638-43cf-b585-cc307ee535df",
   "metadata": {},
   "outputs": [
    {
     "data": {
      "text/html": [
       "<div>\n",
       "<style scoped>\n",
       "    .dataframe tbody tr th:only-of-type {\n",
       "        vertical-align: middle;\n",
       "    }\n",
       "\n",
       "    .dataframe tbody tr th {\n",
       "        vertical-align: top;\n",
       "    }\n",
       "\n",
       "    .dataframe thead th {\n",
       "        text-align: right;\n",
       "    }\n",
       "</style>\n",
       "<table border=\"1\" class=\"dataframe\">\n",
       "  <thead>\n",
       "    <tr style=\"text-align: right;\">\n",
       "      <th></th>\n",
       "      <th>id</th>\n",
       "      <th>season</th>\n",
       "      <th>city</th>\n",
       "      <th>date</th>\n",
       "      <th>team1</th>\n",
       "      <th>team2</th>\n",
       "      <th>toss_winner</th>\n",
       "      <th>toss_decision</th>\n",
       "      <th>result</th>\n",
       "      <th>dl_applied</th>\n",
       "      <th>winner</th>\n",
       "      <th>win_by_runs</th>\n",
       "      <th>win_by_wickets</th>\n",
       "      <th>player_of_match</th>\n",
       "      <th>venue</th>\n",
       "      <th>umpire1</th>\n",
       "      <th>umpire2</th>\n",
       "      <th>umpire3</th>\n",
       "    </tr>\n",
       "  </thead>\n",
       "  <tbody>\n",
       "    <tr>\n",
       "      <th>0</th>\n",
       "      <td>1</td>\n",
       "      <td>2017</td>\n",
       "      <td>Hyderabad</td>\n",
       "      <td>2017-04-05</td>\n",
       "      <td>Sunrisers Hyderabad</td>\n",
       "      <td>Royal Challengers Bangalore</td>\n",
       "      <td>Royal Challengers Bangalore</td>\n",
       "      <td>field</td>\n",
       "      <td>normal</td>\n",
       "      <td>0</td>\n",
       "      <td>Sunrisers Hyderabad</td>\n",
       "      <td>35</td>\n",
       "      <td>0</td>\n",
       "      <td>Yuvraj Singh</td>\n",
       "      <td>Rajiv Gandhi International Stadium, Uppal</td>\n",
       "      <td>AY Dandekar</td>\n",
       "      <td>NJ Llong</td>\n",
       "      <td>NaN</td>\n",
       "    </tr>\n",
       "    <tr>\n",
       "      <th>1</th>\n",
       "      <td>2</td>\n",
       "      <td>2017</td>\n",
       "      <td>Pune</td>\n",
       "      <td>2017-04-06</td>\n",
       "      <td>Mumbai Indians</td>\n",
       "      <td>Rising Pune Supergiant</td>\n",
       "      <td>Rising Pune Supergiant</td>\n",
       "      <td>field</td>\n",
       "      <td>normal</td>\n",
       "      <td>0</td>\n",
       "      <td>Rising Pune Supergiant</td>\n",
       "      <td>0</td>\n",
       "      <td>7</td>\n",
       "      <td>SPD Smith</td>\n",
       "      <td>Maharashtra Cricket Association Stadium</td>\n",
       "      <td>A Nand Kishore</td>\n",
       "      <td>S Ravi</td>\n",
       "      <td>NaN</td>\n",
       "    </tr>\n",
       "    <tr>\n",
       "      <th>2</th>\n",
       "      <td>3</td>\n",
       "      <td>2017</td>\n",
       "      <td>Rajkot</td>\n",
       "      <td>2017-04-07</td>\n",
       "      <td>Gujarat Lions</td>\n",
       "      <td>Kolkata Knight Riders</td>\n",
       "      <td>Kolkata Knight Riders</td>\n",
       "      <td>field</td>\n",
       "      <td>normal</td>\n",
       "      <td>0</td>\n",
       "      <td>Kolkata Knight Riders</td>\n",
       "      <td>0</td>\n",
       "      <td>10</td>\n",
       "      <td>CA Lynn</td>\n",
       "      <td>Saurashtra Cricket Association Stadium</td>\n",
       "      <td>Nitin Menon</td>\n",
       "      <td>CK Nandan</td>\n",
       "      <td>NaN</td>\n",
       "    </tr>\n",
       "    <tr>\n",
       "      <th>3</th>\n",
       "      <td>4</td>\n",
       "      <td>2017</td>\n",
       "      <td>Indore</td>\n",
       "      <td>2017-04-08</td>\n",
       "      <td>Rising Pune Supergiant</td>\n",
       "      <td>Kings XI Punjab</td>\n",
       "      <td>Kings XI Punjab</td>\n",
       "      <td>field</td>\n",
       "      <td>normal</td>\n",
       "      <td>0</td>\n",
       "      <td>Kings XI Punjab</td>\n",
       "      <td>0</td>\n",
       "      <td>6</td>\n",
       "      <td>GJ Maxwell</td>\n",
       "      <td>Holkar Cricket Stadium</td>\n",
       "      <td>AK Chaudhary</td>\n",
       "      <td>C Shamshuddin</td>\n",
       "      <td>NaN</td>\n",
       "    </tr>\n",
       "    <tr>\n",
       "      <th>4</th>\n",
       "      <td>5</td>\n",
       "      <td>2017</td>\n",
       "      <td>Bangalore</td>\n",
       "      <td>2017-04-08</td>\n",
       "      <td>Royal Challengers Bangalore</td>\n",
       "      <td>Delhi Daredevils</td>\n",
       "      <td>Royal Challengers Bangalore</td>\n",
       "      <td>bat</td>\n",
       "      <td>normal</td>\n",
       "      <td>0</td>\n",
       "      <td>Royal Challengers Bangalore</td>\n",
       "      <td>15</td>\n",
       "      <td>0</td>\n",
       "      <td>KM Jadhav</td>\n",
       "      <td>M Chinnaswamy Stadium</td>\n",
       "      <td>NaN</td>\n",
       "      <td>NaN</td>\n",
       "      <td>NaN</td>\n",
       "    </tr>\n",
       "    <tr>\n",
       "      <th>...</th>\n",
       "      <td>...</td>\n",
       "      <td>...</td>\n",
       "      <td>...</td>\n",
       "      <td>...</td>\n",
       "      <td>...</td>\n",
       "      <td>...</td>\n",
       "      <td>...</td>\n",
       "      <td>...</td>\n",
       "      <td>...</td>\n",
       "      <td>...</td>\n",
       "      <td>...</td>\n",
       "      <td>...</td>\n",
       "      <td>...</td>\n",
       "      <td>...</td>\n",
       "      <td>...</td>\n",
       "      <td>...</td>\n",
       "      <td>...</td>\n",
       "      <td>...</td>\n",
       "    </tr>\n",
       "    <tr>\n",
       "      <th>751</th>\n",
       "      <td>11347</td>\n",
       "      <td>2019</td>\n",
       "      <td>Mumbai</td>\n",
       "      <td>05/05/19</td>\n",
       "      <td>Kolkata Knight Riders</td>\n",
       "      <td>Mumbai Indians</td>\n",
       "      <td>Mumbai Indians</td>\n",
       "      <td>field</td>\n",
       "      <td>normal</td>\n",
       "      <td>0</td>\n",
       "      <td>Mumbai Indians</td>\n",
       "      <td>0</td>\n",
       "      <td>9</td>\n",
       "      <td>HH Pandya</td>\n",
       "      <td>Wankhede Stadium</td>\n",
       "      <td>Nanda Kishore</td>\n",
       "      <td>O Nandan</td>\n",
       "      <td>S Ravi</td>\n",
       "    </tr>\n",
       "    <tr>\n",
       "      <th>752</th>\n",
       "      <td>11412</td>\n",
       "      <td>2019</td>\n",
       "      <td>Chennai</td>\n",
       "      <td>07/05/19</td>\n",
       "      <td>Chennai Super Kings</td>\n",
       "      <td>Mumbai Indians</td>\n",
       "      <td>Chennai Super Kings</td>\n",
       "      <td>bat</td>\n",
       "      <td>normal</td>\n",
       "      <td>0</td>\n",
       "      <td>Mumbai Indians</td>\n",
       "      <td>0</td>\n",
       "      <td>6</td>\n",
       "      <td>AS Yadav</td>\n",
       "      <td>M. A. Chidambaram Stadium</td>\n",
       "      <td>Nigel Llong</td>\n",
       "      <td>Nitin Menon</td>\n",
       "      <td>Ian Gould</td>\n",
       "    </tr>\n",
       "    <tr>\n",
       "      <th>753</th>\n",
       "      <td>11413</td>\n",
       "      <td>2019</td>\n",
       "      <td>Visakhapatnam</td>\n",
       "      <td>08/05/19</td>\n",
       "      <td>Sunrisers Hyderabad</td>\n",
       "      <td>Delhi Capitals</td>\n",
       "      <td>Delhi Capitals</td>\n",
       "      <td>field</td>\n",
       "      <td>normal</td>\n",
       "      <td>0</td>\n",
       "      <td>Delhi Capitals</td>\n",
       "      <td>0</td>\n",
       "      <td>2</td>\n",
       "      <td>RR Pant</td>\n",
       "      <td>ACA-VDCA Stadium</td>\n",
       "      <td>NaN</td>\n",
       "      <td>NaN</td>\n",
       "      <td>NaN</td>\n",
       "    </tr>\n",
       "    <tr>\n",
       "      <th>754</th>\n",
       "      <td>11414</td>\n",
       "      <td>2019</td>\n",
       "      <td>Visakhapatnam</td>\n",
       "      <td>10/05/19</td>\n",
       "      <td>Delhi Capitals</td>\n",
       "      <td>Chennai Super Kings</td>\n",
       "      <td>Chennai Super Kings</td>\n",
       "      <td>field</td>\n",
       "      <td>normal</td>\n",
       "      <td>0</td>\n",
       "      <td>Chennai Super Kings</td>\n",
       "      <td>0</td>\n",
       "      <td>6</td>\n",
       "      <td>F du Plessis</td>\n",
       "      <td>ACA-VDCA Stadium</td>\n",
       "      <td>Sundaram Ravi</td>\n",
       "      <td>Bruce Oxenford</td>\n",
       "      <td>Chettithody Shamshuddin</td>\n",
       "    </tr>\n",
       "    <tr>\n",
       "      <th>755</th>\n",
       "      <td>11415</td>\n",
       "      <td>2019</td>\n",
       "      <td>Hyderabad</td>\n",
       "      <td>12/05/19</td>\n",
       "      <td>Mumbai Indians</td>\n",
       "      <td>Chennai Super Kings</td>\n",
       "      <td>Mumbai Indians</td>\n",
       "      <td>bat</td>\n",
       "      <td>normal</td>\n",
       "      <td>0</td>\n",
       "      <td>Mumbai Indians</td>\n",
       "      <td>1</td>\n",
       "      <td>0</td>\n",
       "      <td>JJ Bumrah</td>\n",
       "      <td>Rajiv Gandhi Intl. Cricket Stadium</td>\n",
       "      <td>Nitin Menon</td>\n",
       "      <td>Ian Gould</td>\n",
       "      <td>Nigel Llong</td>\n",
       "    </tr>\n",
       "  </tbody>\n",
       "</table>\n",
       "<p>756 rows × 18 columns</p>\n",
       "</div>"
      ],
      "text/plain": [
       "        id  season           city        date                        team1  \\\n",
       "0        1    2017      Hyderabad  2017-04-05          Sunrisers Hyderabad   \n",
       "1        2    2017           Pune  2017-04-06               Mumbai Indians   \n",
       "2        3    2017         Rajkot  2017-04-07                Gujarat Lions   \n",
       "3        4    2017         Indore  2017-04-08       Rising Pune Supergiant   \n",
       "4        5    2017      Bangalore  2017-04-08  Royal Challengers Bangalore   \n",
       "..     ...     ...            ...         ...                          ...   \n",
       "751  11347    2019         Mumbai    05/05/19        Kolkata Knight Riders   \n",
       "752  11412    2019        Chennai    07/05/19          Chennai Super Kings   \n",
       "753  11413    2019  Visakhapatnam    08/05/19          Sunrisers Hyderabad   \n",
       "754  11414    2019  Visakhapatnam    10/05/19               Delhi Capitals   \n",
       "755  11415    2019      Hyderabad    12/05/19               Mumbai Indians   \n",
       "\n",
       "                           team2                  toss_winner toss_decision  \\\n",
       "0    Royal Challengers Bangalore  Royal Challengers Bangalore         field   \n",
       "1         Rising Pune Supergiant       Rising Pune Supergiant         field   \n",
       "2          Kolkata Knight Riders        Kolkata Knight Riders         field   \n",
       "3                Kings XI Punjab              Kings XI Punjab         field   \n",
       "4               Delhi Daredevils  Royal Challengers Bangalore           bat   \n",
       "..                           ...                          ...           ...   \n",
       "751               Mumbai Indians               Mumbai Indians         field   \n",
       "752               Mumbai Indians          Chennai Super Kings           bat   \n",
       "753               Delhi Capitals               Delhi Capitals         field   \n",
       "754          Chennai Super Kings          Chennai Super Kings         field   \n",
       "755          Chennai Super Kings               Mumbai Indians           bat   \n",
       "\n",
       "     result  dl_applied                       winner  win_by_runs  \\\n",
       "0    normal           0          Sunrisers Hyderabad           35   \n",
       "1    normal           0       Rising Pune Supergiant            0   \n",
       "2    normal           0        Kolkata Knight Riders            0   \n",
       "3    normal           0              Kings XI Punjab            0   \n",
       "4    normal           0  Royal Challengers Bangalore           15   \n",
       "..      ...         ...                          ...          ...   \n",
       "751  normal           0               Mumbai Indians            0   \n",
       "752  normal           0               Mumbai Indians            0   \n",
       "753  normal           0               Delhi Capitals            0   \n",
       "754  normal           0          Chennai Super Kings            0   \n",
       "755  normal           0               Mumbai Indians            1   \n",
       "\n",
       "     win_by_wickets player_of_match  \\\n",
       "0                 0    Yuvraj Singh   \n",
       "1                 7       SPD Smith   \n",
       "2                10         CA Lynn   \n",
       "3                 6      GJ Maxwell   \n",
       "4                 0       KM Jadhav   \n",
       "..              ...             ...   \n",
       "751               9       HH Pandya   \n",
       "752               6        AS Yadav   \n",
       "753               2         RR Pant   \n",
       "754               6    F du Plessis   \n",
       "755               0       JJ Bumrah   \n",
       "\n",
       "                                         venue         umpire1  \\\n",
       "0    Rajiv Gandhi International Stadium, Uppal     AY Dandekar   \n",
       "1      Maharashtra Cricket Association Stadium  A Nand Kishore   \n",
       "2       Saurashtra Cricket Association Stadium     Nitin Menon   \n",
       "3                       Holkar Cricket Stadium    AK Chaudhary   \n",
       "4                        M Chinnaswamy Stadium             NaN   \n",
       "..                                         ...             ...   \n",
       "751                           Wankhede Stadium   Nanda Kishore   \n",
       "752                  M. A. Chidambaram Stadium     Nigel Llong   \n",
       "753                           ACA-VDCA Stadium             NaN   \n",
       "754                           ACA-VDCA Stadium   Sundaram Ravi   \n",
       "755         Rajiv Gandhi Intl. Cricket Stadium     Nitin Menon   \n",
       "\n",
       "            umpire2                  umpire3  \n",
       "0          NJ Llong                      NaN  \n",
       "1            S Ravi                      NaN  \n",
       "2         CK Nandan                      NaN  \n",
       "3     C Shamshuddin                      NaN  \n",
       "4               NaN                      NaN  \n",
       "..              ...                      ...  \n",
       "751        O Nandan                   S Ravi  \n",
       "752     Nitin Menon                Ian Gould  \n",
       "753             NaN                      NaN  \n",
       "754  Bruce Oxenford  Chettithody Shamshuddin  \n",
       "755       Ian Gould              Nigel Llong  \n",
       "\n",
       "[756 rows x 18 columns]"
      ]
     },
     "execution_count": 23,
     "metadata": {},
     "output_type": "execute_result"
    }
   ],
   "source": [
    "df_match=pd.read_csv('matches.csv')\n",
    "df_match"
   ]
  },
  {
   "cell_type": "markdown",
   "id": "f32722c5-0897-46c8-8aa8-ef9020410ba9",
   "metadata": {},
   "source": [
    "### Count of matches played throughout the season"
   ]
  },
  {
   "cell_type": "code",
   "execution_count": 24,
   "id": "ae38046c-990c-4c2e-b531-2ec032151e1b",
   "metadata": {},
   "outputs": [
    {
     "data": {
      "text/plain": [
       "756"
      ]
     },
     "execution_count": 24,
     "metadata": {},
     "output_type": "execute_result"
    }
   ],
   "source": [
    "df_match['id'].count()"
   ]
  },
  {
   "cell_type": "markdown",
   "id": "8a1438b9-39ee-49b7-97b1-93e5dc1748fd",
   "metadata": {},
   "source": [
    "### Top 10 players with most man of the match awards"
   ]
  },
  {
   "cell_type": "code",
   "execution_count": 25,
   "id": "b185b067-7b3e-45a3-a31c-d814fab858cf",
   "metadata": {},
   "outputs": [
    {
     "data": {
      "text/plain": [
       "player_of_match\n",
       "CH Gayle          21\n",
       "AB de Villiers    20\n",
       "MS Dhoni          17\n",
       "DA Warner         17\n",
       "RG Sharma         17\n",
       "YK Pathan         16\n",
       "SR Watson         15\n",
       "SK Raina          14\n",
       "G Gambhir         13\n",
       "MEK Hussey        12\n",
       "Name: player_of_match, dtype: int64"
      ]
     },
     "execution_count": 25,
     "metadata": {},
     "output_type": "execute_result"
    }
   ],
   "source": [
    "d=df_match.groupby('player_of_match')['player_of_match'].count().sort_values(ascending=False)\n",
    "d\n",
    "d.head(10)"
   ]
  },
  {
   "cell_type": "markdown",
   "id": "62ecbb08-0bca-40bd-bb86-6630fd73a94e",
   "metadata": {},
   "source": [
    "### How many matches were won by a team per season"
   ]
  },
  {
   "cell_type": "code",
   "execution_count": 39,
   "id": "d69fd21e-657f-494e-bb15-2392c1d215bf",
   "metadata": {},
   "outputs": [
    {
     "data": {
      "text/plain": [
       "season  winner                     \n",
       "2008    Chennai Super Kings             9\n",
       "        Deccan Chargers                 2\n",
       "        Delhi Daredevils                7\n",
       "        Kings XI Punjab                10\n",
       "        Kolkata Knight Riders           6\n",
       "                                       ..\n",
       "2019    Kolkata Knight Riders           6\n",
       "        Mumbai Indians                 11\n",
       "        Rajasthan Royals                5\n",
       "        Royal Challengers Bangalore     5\n",
       "        Sunrisers Hyderabad             6\n",
       "Name: id, Length: 100, dtype: int64"
      ]
     },
     "execution_count": 39,
     "metadata": {},
     "output_type": "execute_result"
    }
   ],
   "source": [
    "df_match.groupby(['season','winner'])['id'].count()"
   ]
  },
  {
   "cell_type": "markdown",
   "id": "aa6f691f-4a0d-4a7c-ac3f-8c8e24369c28",
   "metadata": {},
   "source": [
    "### Which team won by maximum runs"
   ]
  },
  {
   "cell_type": "code",
   "execution_count": 40,
   "id": "cee9d0c5-85c3-49fd-aff5-26afd90cbfbf",
   "metadata": {},
   "outputs": [
    {
     "data": {
      "text/plain": [
       "'Mumbai Indians'"
      ]
     },
     "execution_count": 40,
     "metadata": {},
     "output_type": "execute_result"
    }
   ],
   "source": [
    "df_match.groupby('winner')['win_by_runs'].sum().sort_values(ascending=False).head(1).index[0]"
   ]
  },
  {
   "cell_type": "markdown",
   "id": "e6adcf02-2d7d-453c-a9c6-da1b52474be4",
   "metadata": {},
   "source": [
    "### Which team won by max wicket in 2019"
   ]
  },
  {
   "cell_type": "code",
   "execution_count": 42,
   "id": "84f6eef4-da8f-4418-9d95-cb3f3a5de50e",
   "metadata": {},
   "outputs": [
    {
     "data": {
      "text/plain": [
       "'Mumbai Indians'"
      ]
     },
     "execution_count": 42,
     "metadata": {},
     "output_type": "execute_result"
    }
   ],
   "source": [
    "df_match[df_match['season']== 2019].groupby('winner')['win_by_wickets'].count().sort_values(ascending=False).head(1).index[0]"
   ]
  },
  {
   "cell_type": "markdown",
   "id": "87bdebb5-447e-4568-a2f5-d59c45c6216d",
   "metadata": {},
   "source": [
    "### Finding the records of teams that won by batting first"
   ]
  },
  {
   "cell_type": "code",
   "execution_count": 43,
   "id": "ae5e6d25-381d-44f3-9bb0-9fd16d859234",
   "metadata": {},
   "outputs": [
    {
     "data": {
      "text/plain": [
       "134"
      ]
     },
     "execution_count": 43,
     "metadata": {},
     "output_type": "execute_result"
    }
   ],
   "source": [
    "df_match[(df_match['toss_decision']=='bat') & (df_match['toss_winner']== df_match['winner'])].shape[0]"
   ]
  },
  {
   "cell_type": "markdown",
   "id": "d9fa12f5-01dd-4ca1-a65a-83defa8ab849",
   "metadata": {},
   "source": [
    "### Finding the records of teams where match win by 1 runs"
   ]
  },
  {
   "cell_type": "code",
   "execution_count": 44,
   "id": "5f3ac4d8-3d84-414e-b90a-a7afd76658fa",
   "metadata": {},
   "outputs": [
    {
     "data": {
      "text/html": [
       "<div>\n",
       "<style scoped>\n",
       "    .dataframe tbody tr th:only-of-type {\n",
       "        vertical-align: middle;\n",
       "    }\n",
       "\n",
       "    .dataframe tbody tr th {\n",
       "        vertical-align: top;\n",
       "    }\n",
       "\n",
       "    .dataframe thead th {\n",
       "        text-align: right;\n",
       "    }\n",
       "</style>\n",
       "<table border=\"1\" class=\"dataframe\">\n",
       "  <thead>\n",
       "    <tr style=\"text-align: right;\">\n",
       "      <th></th>\n",
       "      <th>id</th>\n",
       "      <th>season</th>\n",
       "      <th>city</th>\n",
       "      <th>date</th>\n",
       "      <th>team1</th>\n",
       "      <th>team2</th>\n",
       "      <th>toss_winner</th>\n",
       "      <th>toss_decision</th>\n",
       "      <th>result</th>\n",
       "      <th>dl_applied</th>\n",
       "      <th>winner</th>\n",
       "      <th>win_by_runs</th>\n",
       "      <th>win_by_wickets</th>\n",
       "      <th>player_of_match</th>\n",
       "      <th>venue</th>\n",
       "      <th>umpire1</th>\n",
       "      <th>umpire2</th>\n",
       "      <th>umpire3</th>\n",
       "    </tr>\n",
       "  </thead>\n",
       "  <tbody>\n",
       "    <tr>\n",
       "      <th>58</th>\n",
       "      <td>59</td>\n",
       "      <td>2017</td>\n",
       "      <td>Hyderabad</td>\n",
       "      <td>2017-05-21</td>\n",
       "      <td>Mumbai Indians</td>\n",
       "      <td>Rising Pune Supergiant</td>\n",
       "      <td>Mumbai Indians</td>\n",
       "      <td>bat</td>\n",
       "      <td>normal</td>\n",
       "      <td>0</td>\n",
       "      <td>Mumbai Indians</td>\n",
       "      <td>1</td>\n",
       "      <td>0</td>\n",
       "      <td>KH Pandya</td>\n",
       "      <td>Rajiv Gandhi International Stadium, Uppal</td>\n",
       "      <td>NJ Llong</td>\n",
       "      <td>S Ravi</td>\n",
       "      <td>NaN</td>\n",
       "    </tr>\n",
       "    <tr>\n",
       "      <th>105</th>\n",
       "      <td>106</td>\n",
       "      <td>2008</td>\n",
       "      <td>Mumbai</td>\n",
       "      <td>2008-05-21</td>\n",
       "      <td>Kings XI Punjab</td>\n",
       "      <td>Mumbai Indians</td>\n",
       "      <td>Mumbai Indians</td>\n",
       "      <td>field</td>\n",
       "      <td>normal</td>\n",
       "      <td>0</td>\n",
       "      <td>Kings XI Punjab</td>\n",
       "      <td>1</td>\n",
       "      <td>0</td>\n",
       "      <td>SE Marsh</td>\n",
       "      <td>Wankhede Stadium</td>\n",
       "      <td>BF Bowden</td>\n",
       "      <td>GA Pratapkumar</td>\n",
       "      <td>NaN</td>\n",
       "    </tr>\n",
       "    <tr>\n",
       "      <th>163</th>\n",
       "      <td>164</td>\n",
       "      <td>2009</td>\n",
       "      <td>Johannesburg</td>\n",
       "      <td>2009-05-17</td>\n",
       "      <td>Kings XI Punjab</td>\n",
       "      <td>Deccan Chargers</td>\n",
       "      <td>Deccan Chargers</td>\n",
       "      <td>field</td>\n",
       "      <td>normal</td>\n",
       "      <td>0</td>\n",
       "      <td>Kings XI Punjab</td>\n",
       "      <td>1</td>\n",
       "      <td>0</td>\n",
       "      <td>Yuvraj Singh</td>\n",
       "      <td>New Wanderers Stadium</td>\n",
       "      <td>S Ravi</td>\n",
       "      <td>RB Tiffin</td>\n",
       "      <td>NaN</td>\n",
       "    </tr>\n",
       "    <tr>\n",
       "      <th>344</th>\n",
       "      <td>345</td>\n",
       "      <td>2012</td>\n",
       "      <td>Delhi</td>\n",
       "      <td>2012-04-29</td>\n",
       "      <td>Delhi Daredevils</td>\n",
       "      <td>Rajasthan Royals</td>\n",
       "      <td>Delhi Daredevils</td>\n",
       "      <td>bat</td>\n",
       "      <td>normal</td>\n",
       "      <td>0</td>\n",
       "      <td>Delhi Daredevils</td>\n",
       "      <td>1</td>\n",
       "      <td>0</td>\n",
       "      <td>V Sehwag</td>\n",
       "      <td>Feroz Shah Kotla</td>\n",
       "      <td>S Ravi</td>\n",
       "      <td>RJ Tucker</td>\n",
       "      <td>NaN</td>\n",
       "    </tr>\n",
       "    <tr>\n",
       "      <th>350</th>\n",
       "      <td>351</td>\n",
       "      <td>2012</td>\n",
       "      <td>Pune</td>\n",
       "      <td>2012-05-03</td>\n",
       "      <td>Mumbai Indians</td>\n",
       "      <td>Pune Warriors</td>\n",
       "      <td>Mumbai Indians</td>\n",
       "      <td>bat</td>\n",
       "      <td>normal</td>\n",
       "      <td>0</td>\n",
       "      <td>Mumbai Indians</td>\n",
       "      <td>1</td>\n",
       "      <td>0</td>\n",
       "      <td>SL Malinga</td>\n",
       "      <td>Subrata Roy Sahara Stadium</td>\n",
       "      <td>Asad Rauf</td>\n",
       "      <td>S Asnani</td>\n",
       "      <td>NaN</td>\n",
       "    </tr>\n",
       "    <tr>\n",
       "      <th>518</th>\n",
       "      <td>519</td>\n",
       "      <td>2015</td>\n",
       "      <td>Chennai</td>\n",
       "      <td>2015-04-09</td>\n",
       "      <td>Chennai Super Kings</td>\n",
       "      <td>Delhi Daredevils</td>\n",
       "      <td>Delhi Daredevils</td>\n",
       "      <td>field</td>\n",
       "      <td>normal</td>\n",
       "      <td>0</td>\n",
       "      <td>Chennai Super Kings</td>\n",
       "      <td>1</td>\n",
       "      <td>0</td>\n",
       "      <td>A Nehra</td>\n",
       "      <td>MA Chidambaram Stadium, Chepauk</td>\n",
       "      <td>RK Illingworth</td>\n",
       "      <td>VA Kulkarni</td>\n",
       "      <td>NaN</td>\n",
       "    </tr>\n",
       "    <tr>\n",
       "      <th>598</th>\n",
       "      <td>599</td>\n",
       "      <td>2016</td>\n",
       "      <td>Delhi</td>\n",
       "      <td>2016-04-27</td>\n",
       "      <td>Gujarat Lions</td>\n",
       "      <td>Delhi Daredevils</td>\n",
       "      <td>Delhi Daredevils</td>\n",
       "      <td>field</td>\n",
       "      <td>normal</td>\n",
       "      <td>0</td>\n",
       "      <td>Gujarat Lions</td>\n",
       "      <td>1</td>\n",
       "      <td>0</td>\n",
       "      <td>CH Morris</td>\n",
       "      <td>Feroz Shah Kotla</td>\n",
       "      <td>M Erasmus</td>\n",
       "      <td>S Ravi</td>\n",
       "      <td>NaN</td>\n",
       "    </tr>\n",
       "    <tr>\n",
       "      <th>614</th>\n",
       "      <td>615</td>\n",
       "      <td>2016</td>\n",
       "      <td>Chandigarh</td>\n",
       "      <td>2016-05-09</td>\n",
       "      <td>Royal Challengers Bangalore</td>\n",
       "      <td>Kings XI Punjab</td>\n",
       "      <td>Kings XI Punjab</td>\n",
       "      <td>field</td>\n",
       "      <td>normal</td>\n",
       "      <td>0</td>\n",
       "      <td>Royal Challengers Bangalore</td>\n",
       "      <td>1</td>\n",
       "      <td>0</td>\n",
       "      <td>SR Watson</td>\n",
       "      <td>Punjab Cricket Association IS Bindra Stadium, ...</td>\n",
       "      <td>AK Chaudhary</td>\n",
       "      <td>HDPK Dharmasena</td>\n",
       "      <td>NaN</td>\n",
       "    </tr>\n",
       "    <tr>\n",
       "      <th>734</th>\n",
       "      <td>11330</td>\n",
       "      <td>2019</td>\n",
       "      <td>Bengaluru</td>\n",
       "      <td>21/04/19</td>\n",
       "      <td>Royal Challengers Bangalore</td>\n",
       "      <td>Chennai Super Kings</td>\n",
       "      <td>Chennai Super Kings</td>\n",
       "      <td>field</td>\n",
       "      <td>normal</td>\n",
       "      <td>0</td>\n",
       "      <td>Royal Challengers Bangalore</td>\n",
       "      <td>1</td>\n",
       "      <td>0</td>\n",
       "      <td>PA Patel</td>\n",
       "      <td>M. Chinnaswamy Stadium</td>\n",
       "      <td>Vineet Kulkarni</td>\n",
       "      <td>Rod Tucker</td>\n",
       "      <td>Anil Chaudhary</td>\n",
       "    </tr>\n",
       "    <tr>\n",
       "      <th>755</th>\n",
       "      <td>11415</td>\n",
       "      <td>2019</td>\n",
       "      <td>Hyderabad</td>\n",
       "      <td>12/05/19</td>\n",
       "      <td>Mumbai Indians</td>\n",
       "      <td>Chennai Super Kings</td>\n",
       "      <td>Mumbai Indians</td>\n",
       "      <td>bat</td>\n",
       "      <td>normal</td>\n",
       "      <td>0</td>\n",
       "      <td>Mumbai Indians</td>\n",
       "      <td>1</td>\n",
       "      <td>0</td>\n",
       "      <td>JJ Bumrah</td>\n",
       "      <td>Rajiv Gandhi Intl. Cricket Stadium</td>\n",
       "      <td>Nitin Menon</td>\n",
       "      <td>Ian Gould</td>\n",
       "      <td>Nigel Llong</td>\n",
       "    </tr>\n",
       "  </tbody>\n",
       "</table>\n",
       "</div>"
      ],
      "text/plain": [
       "        id  season          city        date                        team1  \\\n",
       "58      59    2017     Hyderabad  2017-05-21               Mumbai Indians   \n",
       "105    106    2008        Mumbai  2008-05-21              Kings XI Punjab   \n",
       "163    164    2009  Johannesburg  2009-05-17              Kings XI Punjab   \n",
       "344    345    2012         Delhi  2012-04-29             Delhi Daredevils   \n",
       "350    351    2012          Pune  2012-05-03               Mumbai Indians   \n",
       "518    519    2015       Chennai  2015-04-09          Chennai Super Kings   \n",
       "598    599    2016         Delhi  2016-04-27                Gujarat Lions   \n",
       "614    615    2016    Chandigarh  2016-05-09  Royal Challengers Bangalore   \n",
       "734  11330    2019     Bengaluru    21/04/19  Royal Challengers Bangalore   \n",
       "755  11415    2019     Hyderabad    12/05/19               Mumbai Indians   \n",
       "\n",
       "                      team2          toss_winner toss_decision  result  \\\n",
       "58   Rising Pune Supergiant       Mumbai Indians           bat  normal   \n",
       "105          Mumbai Indians       Mumbai Indians         field  normal   \n",
       "163         Deccan Chargers      Deccan Chargers         field  normal   \n",
       "344        Rajasthan Royals     Delhi Daredevils           bat  normal   \n",
       "350           Pune Warriors       Mumbai Indians           bat  normal   \n",
       "518        Delhi Daredevils     Delhi Daredevils         field  normal   \n",
       "598        Delhi Daredevils     Delhi Daredevils         field  normal   \n",
       "614         Kings XI Punjab      Kings XI Punjab         field  normal   \n",
       "734     Chennai Super Kings  Chennai Super Kings         field  normal   \n",
       "755     Chennai Super Kings       Mumbai Indians           bat  normal   \n",
       "\n",
       "     dl_applied                       winner  win_by_runs  win_by_wickets  \\\n",
       "58            0               Mumbai Indians            1               0   \n",
       "105           0              Kings XI Punjab            1               0   \n",
       "163           0              Kings XI Punjab            1               0   \n",
       "344           0             Delhi Daredevils            1               0   \n",
       "350           0               Mumbai Indians            1               0   \n",
       "518           0          Chennai Super Kings            1               0   \n",
       "598           0                Gujarat Lions            1               0   \n",
       "614           0  Royal Challengers Bangalore            1               0   \n",
       "734           0  Royal Challengers Bangalore            1               0   \n",
       "755           0               Mumbai Indians            1               0   \n",
       "\n",
       "    player_of_match                                              venue  \\\n",
       "58        KH Pandya          Rajiv Gandhi International Stadium, Uppal   \n",
       "105        SE Marsh                                   Wankhede Stadium   \n",
       "163    Yuvraj Singh                              New Wanderers Stadium   \n",
       "344        V Sehwag                                   Feroz Shah Kotla   \n",
       "350      SL Malinga                         Subrata Roy Sahara Stadium   \n",
       "518         A Nehra                    MA Chidambaram Stadium, Chepauk   \n",
       "598       CH Morris                                   Feroz Shah Kotla   \n",
       "614       SR Watson  Punjab Cricket Association IS Bindra Stadium, ...   \n",
       "734        PA Patel                             M. Chinnaswamy Stadium   \n",
       "755       JJ Bumrah                 Rajiv Gandhi Intl. Cricket Stadium   \n",
       "\n",
       "             umpire1          umpire2         umpire3  \n",
       "58          NJ Llong           S Ravi             NaN  \n",
       "105        BF Bowden   GA Pratapkumar             NaN  \n",
       "163           S Ravi        RB Tiffin             NaN  \n",
       "344           S Ravi        RJ Tucker             NaN  \n",
       "350        Asad Rauf         S Asnani             NaN  \n",
       "518   RK Illingworth      VA Kulkarni             NaN  \n",
       "598        M Erasmus           S Ravi             NaN  \n",
       "614     AK Chaudhary  HDPK Dharmasena             NaN  \n",
       "734  Vineet Kulkarni       Rod Tucker  Anil Chaudhary  \n",
       "755      Nitin Menon        Ian Gould     Nigel Llong  "
      ]
     },
     "execution_count": 44,
     "metadata": {},
     "output_type": "execute_result"
    }
   ],
   "source": [
    "df_match[df_match['win_by_runs']==1]"
   ]
  },
  {
   "cell_type": "code",
   "execution_count": null,
   "id": "b6ee80cd-ef75-42a2-b2ab-13b064e7645a",
   "metadata": {},
   "outputs": [],
   "source": []
  }
 ],
 "metadata": {
  "kernelspec": {
   "display_name": "Python 3 (ipykernel)",
   "language": "python",
   "name": "python3"
  },
  "language_info": {
   "codemirror_mode": {
    "name": "ipython",
    "version": 3
   },
   "file_extension": ".py",
   "mimetype": "text/x-python",
   "name": "python",
   "nbconvert_exporter": "python",
   "pygments_lexer": "ipython3",
   "version": "3.11.4"
  }
 },
 "nbformat": 4,
 "nbformat_minor": 5
}
